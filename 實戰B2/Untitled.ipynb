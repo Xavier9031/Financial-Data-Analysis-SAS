{
 "cells": [
  {
   "cell_type": "code",
   "execution_count": 1,
   "id": "1685f39e",
   "metadata": {},
   "outputs": [],
   "source": [
    "import numpy as np\n",
    "import pandas as pd\n",
    "import matplotlib.pyplot as plt\n",
    "import matplotlib.image as mpimg\n",
    "%matplotlib inline\n",
    "import seaborn as sns"
   ]
  },
  {
   "cell_type": "code",
   "execution_count": 2,
   "id": "d6cb63d4",
   "metadata": {},
   "outputs": [
    {
     "data": {
      "text/plain": [
       "(983010, 5)"
      ]
     },
     "execution_count": 2,
     "metadata": {},
     "output_type": "execute_result"
    }
   ],
   "source": [
    "all_data = pd.read_csv(\"all_test_model_results.csv\")\n",
    "all_data.shape"
   ]
  },
  {
   "cell_type": "code",
   "execution_count": 7,
   "id": "d78d2ffd",
   "metadata": {},
   "outputs": [
    {
     "data": {
      "text/html": [
       "<div>\n",
       "<style scoped>\n",
       "    .dataframe tbody tr th:only-of-type {\n",
       "        vertical-align: middle;\n",
       "    }\n",
       "\n",
       "    .dataframe tbody tr th {\n",
       "        vertical-align: top;\n",
       "    }\n",
       "\n",
       "    .dataframe thead th {\n",
       "        text-align: right;\n",
       "    }\n",
       "</style>\n",
       "<table border=\"1\" class=\"dataframe\">\n",
       "  <thead>\n",
       "    <tr style=\"text-align: right;\">\n",
       "      <th></th>\n",
       "      <th>star_yyyy</th>\n",
       "      <th>YEAR</th>\n",
       "      <th>COL</th>\n",
       "      <th>MAE</th>\n",
       "      <th>RMSE</th>\n",
       "    </tr>\n",
       "  </thead>\n",
       "  <tbody>\n",
       "    <tr>\n",
       "      <th>0</th>\n",
       "      <td>2004</td>\n",
       "      <td>2021</td>\n",
       "      <td>['Lag_shr']</td>\n",
       "      <td>0.244951</td>\n",
       "      <td>0.351019</td>\n",
       "    </tr>\n",
       "    <tr>\n",
       "      <th>1</th>\n",
       "      <td>2004</td>\n",
       "      <td>2020</td>\n",
       "      <td>['Lag_shr']</td>\n",
       "      <td>0.239678</td>\n",
       "      <td>0.335815</td>\n",
       "    </tr>\n",
       "    <tr>\n",
       "      <th>2</th>\n",
       "      <td>2004</td>\n",
       "      <td>2021</td>\n",
       "      <td>['Lag_she']</td>\n",
       "      <td>0.245144</td>\n",
       "      <td>0.351193</td>\n",
       "    </tr>\n",
       "    <tr>\n",
       "      <th>3</th>\n",
       "      <td>2004</td>\n",
       "      <td>2020</td>\n",
       "      <td>['Lag_she']</td>\n",
       "      <td>0.239695</td>\n",
       "      <td>0.335788</td>\n",
       "    </tr>\n",
       "    <tr>\n",
       "      <th>4</th>\n",
       "      <td>2004</td>\n",
       "      <td>2021</td>\n",
       "      <td>['Lag_mshe']</td>\n",
       "      <td>0.244855</td>\n",
       "      <td>0.350937</td>\n",
       "    </tr>\n",
       "    <tr>\n",
       "      <th>5</th>\n",
       "      <td>2004</td>\n",
       "      <td>2020</td>\n",
       "      <td>['Lag_mshe']</td>\n",
       "      <td>0.239521</td>\n",
       "      <td>0.335701</td>\n",
       "    </tr>\n",
       "    <tr>\n",
       "      <th>6</th>\n",
       "      <td>2004</td>\n",
       "      <td>2021</td>\n",
       "      <td>['Lag_Tobins_Q']</td>\n",
       "      <td>0.248147</td>\n",
       "      <td>0.368114</td>\n",
       "    </tr>\n",
       "    <tr>\n",
       "      <th>7</th>\n",
       "      <td>2004</td>\n",
       "      <td>2020</td>\n",
       "      <td>['Lag_Tobins_Q']</td>\n",
       "      <td>0.249211</td>\n",
       "      <td>0.358149</td>\n",
       "    </tr>\n",
       "    <tr>\n",
       "      <th>8</th>\n",
       "      <td>2004</td>\n",
       "      <td>2021</td>\n",
       "      <td>['Lag_Tobins_Q_A']</td>\n",
       "      <td>0.248224</td>\n",
       "      <td>0.368244</td>\n",
       "    </tr>\n",
       "    <tr>\n",
       "      <th>9</th>\n",
       "      <td>2004</td>\n",
       "      <td>2020</td>\n",
       "      <td>['Lag_Tobins_Q_A']</td>\n",
       "      <td>0.249193</td>\n",
       "      <td>0.358100</td>\n",
       "    </tr>\n",
       "  </tbody>\n",
       "</table>\n",
       "</div>"
      ],
      "text/plain": [
       "   star_yyyy  YEAR                 COL       MAE      RMSE\n",
       "0       2004  2021         ['Lag_shr']  0.244951  0.351019\n",
       "1       2004  2020         ['Lag_shr']  0.239678  0.335815\n",
       "2       2004  2021         ['Lag_she']  0.245144  0.351193\n",
       "3       2004  2020         ['Lag_she']  0.239695  0.335788\n",
       "4       2004  2021        ['Lag_mshe']  0.244855  0.350937\n",
       "5       2004  2020        ['Lag_mshe']  0.239521  0.335701\n",
       "6       2004  2021    ['Lag_Tobins_Q']  0.248147  0.368114\n",
       "7       2004  2020    ['Lag_Tobins_Q']  0.249211  0.358149\n",
       "8       2004  2021  ['Lag_Tobins_Q_A']  0.248224  0.368244\n",
       "9       2004  2020  ['Lag_Tobins_Q_A']  0.249193  0.358100"
      ]
     },
     "execution_count": 7,
     "metadata": {},
     "output_type": "execute_result"
    }
   ],
   "source": [
    "all_data.head(10)"
   ]
  },
  {
   "cell_type": "code",
   "execution_count": 8,
   "id": "df9aa60b",
   "metadata": {},
   "outputs": [
    {
     "data": {
      "text/plain": [
       "\"['Lag_shr']\""
      ]
     },
     "execution_count": 8,
     "metadata": {},
     "output_type": "execute_result"
    }
   ],
   "source": [
    "all_data[\"COL\"][0]"
   ]
  },
  {
   "cell_type": "code",
   "execution_count": 13,
   "id": "4c704dc2",
   "metadata": {},
   "outputs": [],
   "source": [
    "def y(_in):\n",
    "    return _in[1:-1]"
   ]
  },
  {
   "cell_type": "code",
   "execution_count": 14,
   "id": "12b097cf",
   "metadata": {},
   "outputs": [
    {
     "data": {
      "text/plain": [
       "'[k,o,l]'"
      ]
     },
     "execution_count": 14,
     "metadata": {},
     "output_type": "execute_result"
    }
   ],
   "source": [
    "a = \"[k,o,l]\"\n",
    "a"
   ]
  },
  {
   "cell_type": "code",
   "execution_count": 15,
   "id": "754b388c",
   "metadata": {},
   "outputs": [
    {
     "data": {
      "text/plain": [
       "'k,o,l'"
      ]
     },
     "execution_count": 15,
     "metadata": {},
     "output_type": "execute_result"
    }
   ],
   "source": [
    "y(a)"
   ]
  },
  {
   "cell_type": "code",
   "execution_count": 16,
   "id": "0cf080c3",
   "metadata": {},
   "outputs": [],
   "source": [
    "all_data[\"COL\"] = all_data[\"COL\"].apply(y)"
   ]
  },
  {
   "cell_type": "code",
   "execution_count": 17,
   "id": "1b181792",
   "metadata": {},
   "outputs": [
    {
     "data": {
      "text/html": [
       "<div>\n",
       "<style scoped>\n",
       "    .dataframe tbody tr th:only-of-type {\n",
       "        vertical-align: middle;\n",
       "    }\n",
       "\n",
       "    .dataframe tbody tr th {\n",
       "        vertical-align: top;\n",
       "    }\n",
       "\n",
       "    .dataframe thead th {\n",
       "        text-align: right;\n",
       "    }\n",
       "</style>\n",
       "<table border=\"1\" class=\"dataframe\">\n",
       "  <thead>\n",
       "    <tr style=\"text-align: right;\">\n",
       "      <th></th>\n",
       "      <th>star_yyyy</th>\n",
       "      <th>YEAR</th>\n",
       "      <th>COL</th>\n",
       "      <th>MAE</th>\n",
       "      <th>RMSE</th>\n",
       "    </tr>\n",
       "  </thead>\n",
       "  <tbody>\n",
       "    <tr>\n",
       "      <th>0</th>\n",
       "      <td>2004</td>\n",
       "      <td>2021</td>\n",
       "      <td>'Lag_shr'</td>\n",
       "      <td>0.244951</td>\n",
       "      <td>0.351019</td>\n",
       "    </tr>\n",
       "    <tr>\n",
       "      <th>1</th>\n",
       "      <td>2004</td>\n",
       "      <td>2020</td>\n",
       "      <td>'Lag_shr'</td>\n",
       "      <td>0.239678</td>\n",
       "      <td>0.335815</td>\n",
       "    </tr>\n",
       "    <tr>\n",
       "      <th>2</th>\n",
       "      <td>2004</td>\n",
       "      <td>2021</td>\n",
       "      <td>'Lag_she'</td>\n",
       "      <td>0.245144</td>\n",
       "      <td>0.351193</td>\n",
       "    </tr>\n",
       "    <tr>\n",
       "      <th>3</th>\n",
       "      <td>2004</td>\n",
       "      <td>2020</td>\n",
       "      <td>'Lag_she'</td>\n",
       "      <td>0.239695</td>\n",
       "      <td>0.335788</td>\n",
       "    </tr>\n",
       "    <tr>\n",
       "      <th>4</th>\n",
       "      <td>2004</td>\n",
       "      <td>2021</td>\n",
       "      <td>'Lag_mshe'</td>\n",
       "      <td>0.244855</td>\n",
       "      <td>0.350937</td>\n",
       "    </tr>\n",
       "    <tr>\n",
       "      <th>5</th>\n",
       "      <td>2004</td>\n",
       "      <td>2020</td>\n",
       "      <td>'Lag_mshe'</td>\n",
       "      <td>0.239521</td>\n",
       "      <td>0.335701</td>\n",
       "    </tr>\n",
       "    <tr>\n",
       "      <th>6</th>\n",
       "      <td>2004</td>\n",
       "      <td>2021</td>\n",
       "      <td>'Lag_Tobins_Q'</td>\n",
       "      <td>0.248147</td>\n",
       "      <td>0.368114</td>\n",
       "    </tr>\n",
       "    <tr>\n",
       "      <th>7</th>\n",
       "      <td>2004</td>\n",
       "      <td>2020</td>\n",
       "      <td>'Lag_Tobins_Q'</td>\n",
       "      <td>0.249211</td>\n",
       "      <td>0.358149</td>\n",
       "    </tr>\n",
       "    <tr>\n",
       "      <th>8</th>\n",
       "      <td>2004</td>\n",
       "      <td>2021</td>\n",
       "      <td>'Lag_Tobins_Q_A'</td>\n",
       "      <td>0.248224</td>\n",
       "      <td>0.368244</td>\n",
       "    </tr>\n",
       "    <tr>\n",
       "      <th>9</th>\n",
       "      <td>2004</td>\n",
       "      <td>2020</td>\n",
       "      <td>'Lag_Tobins_Q_A'</td>\n",
       "      <td>0.249193</td>\n",
       "      <td>0.358100</td>\n",
       "    </tr>\n",
       "  </tbody>\n",
       "</table>\n",
       "</div>"
      ],
      "text/plain": [
       "   star_yyyy  YEAR               COL       MAE      RMSE\n",
       "0       2004  2021         'Lag_shr'  0.244951  0.351019\n",
       "1       2004  2020         'Lag_shr'  0.239678  0.335815\n",
       "2       2004  2021         'Lag_she'  0.245144  0.351193\n",
       "3       2004  2020         'Lag_she'  0.239695  0.335788\n",
       "4       2004  2021        'Lag_mshe'  0.244855  0.350937\n",
       "5       2004  2020        'Lag_mshe'  0.239521  0.335701\n",
       "6       2004  2021    'Lag_Tobins_Q'  0.248147  0.368114\n",
       "7       2004  2020    'Lag_Tobins_Q'  0.249211  0.358149\n",
       "8       2004  2021  'Lag_Tobins_Q_A'  0.248224  0.368244\n",
       "9       2004  2020  'Lag_Tobins_Q_A'  0.249193  0.358100"
      ]
     },
     "execution_count": 17,
     "metadata": {},
     "output_type": "execute_result"
    }
   ],
   "source": [
    "all_data.head(10)"
   ]
  },
  {
   "cell_type": "code",
   "execution_count": 19,
   "id": "e54aafed",
   "metadata": {},
   "outputs": [],
   "source": [
    "all_data.to_csv(\"all_test_model_results_2.csv\")"
   ]
  },
  {
   "cell_type": "code",
   "execution_count": null,
   "id": "94d52b6c",
   "metadata": {},
   "outputs": [],
   "source": []
  }
 ],
 "metadata": {
  "kernelspec": {
   "display_name": "Python 3 (ipykernel)",
   "language": "python",
   "name": "python3"
  },
  "language_info": {
   "codemirror_mode": {
    "name": "ipython",
    "version": 3
   },
   "file_extension": ".py",
   "mimetype": "text/x-python",
   "name": "python",
   "nbconvert_exporter": "python",
   "pygments_lexer": "ipython3",
   "version": "3.8.12"
  }
 },
 "nbformat": 4,
 "nbformat_minor": 5
}
