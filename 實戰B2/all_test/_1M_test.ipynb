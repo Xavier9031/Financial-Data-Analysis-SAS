{
 "cells": [
  {
   "cell_type": "code",
   "execution_count": 2,
   "id": "302b364e",
   "metadata": {},
   "outputs": [],
   "source": [
    "import numpy as np\n",
    "import pandas as pd\n",
    "import matplotlib.pyplot as plt\n",
    "import matplotlib.image as mpimg\n",
    "%matplotlib inline\n",
    "import seaborn as sns"
   ]
  },
  {
   "cell_type": "markdown",
   "id": "936369c2",
   "metadata": {},
   "source": [
    "# 全測試"
   ]
  },
  {
   "cell_type": "code",
   "execution_count": 3,
   "id": "b9a8e8c1",
   "metadata": {},
   "outputs": [
    {
     "data": {
      "text/plain": [
       "(10584, 18)"
      ]
     },
     "execution_count": 3,
     "metadata": {},
     "output_type": "execute_result"
    }
   ],
   "source": [
    "all_data = pd.read_csv(\"C:/Users/ed307/Desktop/school/大三下/財經數據分析方法/實戰B_第七組/op.csv\")\n",
    "all_data.shape"
   ]
  },
  {
   "cell_type": "code",
   "execution_count": 4,
   "id": "7c0db474",
   "metadata": {},
   "outputs": [
    {
     "data": {
      "text/plain": [
       "sid               0\n",
       "yyyy              0\n",
       "risk_premium      0\n",
       "Lag_shr           0\n",
       "Lag_she           0\n",
       "Lag_mshe          0\n",
       "Lag_Tobins_Q      0\n",
       "Lag_Tobins_Q_A    0\n",
       "Lag_debtr         0\n",
       "Lag_dy            0\n",
       "Lag_netg          0\n",
       "Lag_PE            0\n",
       "Lag_par           0\n",
       "Lag_sale          0\n",
       "Lag_return        0\n",
       "Lag_turn          0\n",
       "Lag_idiorisk      0\n",
       "Lag_riskprem      0\n",
       "dtype: int64"
      ]
     },
     "execution_count": 4,
     "metadata": {},
     "output_type": "execute_result"
    }
   ],
   "source": [
    "all_data.isnull().sum()"
   ]
  },
  {
   "cell_type": "code",
   "execution_count": 5,
   "id": "3b81f715",
   "metadata": {},
   "outputs": [
    {
     "data": {
      "text/html": [
       "<div>\n",
       "<style scoped>\n",
       "    .dataframe tbody tr th:only-of-type {\n",
       "        vertical-align: middle;\n",
       "    }\n",
       "\n",
       "    .dataframe tbody tr th {\n",
       "        vertical-align: top;\n",
       "    }\n",
       "\n",
       "    .dataframe thead th {\n",
       "        text-align: right;\n",
       "    }\n",
       "</style>\n",
       "<table border=\"1\" class=\"dataframe\">\n",
       "  <thead>\n",
       "    <tr style=\"text-align: right;\">\n",
       "      <th></th>\n",
       "      <th>sid</th>\n",
       "      <th>yyyy</th>\n",
       "      <th>risk_premium</th>\n",
       "      <th>Lag_shr</th>\n",
       "      <th>Lag_she</th>\n",
       "      <th>Lag_mshe</th>\n",
       "      <th>Lag_Tobins_Q</th>\n",
       "      <th>Lag_Tobins_Q_A</th>\n",
       "      <th>Lag_debtr</th>\n",
       "      <th>Lag_dy</th>\n",
       "      <th>Lag_netg</th>\n",
       "      <th>Lag_PE</th>\n",
       "      <th>Lag_par</th>\n",
       "      <th>Lag_sale</th>\n",
       "      <th>Lag_return</th>\n",
       "      <th>Lag_turn</th>\n",
       "      <th>Lag_idiorisk</th>\n",
       "      <th>Lag_riskprem</th>\n",
       "    </tr>\n",
       "  </thead>\n",
       "  <tbody>\n",
       "  </tbody>\n",
       "</table>\n",
       "</div>"
      ],
      "text/plain": [
       "Empty DataFrame\n",
       "Columns: [sid, yyyy, risk_premium, Lag_shr, Lag_she, Lag_mshe, Lag_Tobins_Q, Lag_Tobins_Q_A, Lag_debtr, Lag_dy, Lag_netg, Lag_PE, Lag_par, Lag_sale, Lag_return, Lag_turn, Lag_idiorisk, Lag_riskprem]\n",
       "Index: []"
      ]
     },
     "execution_count": 5,
     "metadata": {},
     "output_type": "execute_result"
    }
   ],
   "source": [
    "all_data[all_data[\"risk_premium\"].isnull()]"
   ]
  },
  {
   "cell_type": "code",
   "execution_count": 6,
   "id": "ceefbddb",
   "metadata": {},
   "outputs": [
    {
     "data": {
      "text/html": [
       "<div>\n",
       "<style scoped>\n",
       "    .dataframe tbody tr th:only-of-type {\n",
       "        vertical-align: middle;\n",
       "    }\n",
       "\n",
       "    .dataframe tbody tr th {\n",
       "        vertical-align: top;\n",
       "    }\n",
       "\n",
       "    .dataframe thead th {\n",
       "        text-align: right;\n",
       "    }\n",
       "</style>\n",
       "<table border=\"1\" class=\"dataframe\">\n",
       "  <thead>\n",
       "    <tr style=\"text-align: right;\">\n",
       "      <th></th>\n",
       "      <th>sid</th>\n",
       "      <th>yyyy</th>\n",
       "      <th>risk_premium</th>\n",
       "      <th>Lag_shr</th>\n",
       "      <th>Lag_she</th>\n",
       "      <th>Lag_mshe</th>\n",
       "      <th>Lag_Tobins_Q</th>\n",
       "      <th>Lag_Tobins_Q_A</th>\n",
       "      <th>Lag_debtr</th>\n",
       "      <th>Lag_dy</th>\n",
       "      <th>Lag_netg</th>\n",
       "      <th>Lag_PE</th>\n",
       "      <th>Lag_par</th>\n",
       "      <th>Lag_sale</th>\n",
       "      <th>Lag_return</th>\n",
       "      <th>Lag_turn</th>\n",
       "      <th>Lag_idiorisk</th>\n",
       "      <th>Lag_riskprem</th>\n",
       "    </tr>\n",
       "  </thead>\n",
       "  <tbody>\n",
       "    <tr>\n",
       "      <th>0</th>\n",
       "      <td>TW_3090</td>\n",
       "      <td>2004</td>\n",
       "      <td>-0.177336</td>\n",
       "      <td>0.3232</td>\n",
       "      <td>0.0000</td>\n",
       "      <td>0.0666</td>\n",
       "      <td>0.99</td>\n",
       "      <td>0.99</td>\n",
       "      <td>0.6098</td>\n",
       "      <td>0.0722</td>\n",
       "      <td>0.3185</td>\n",
       "      <td>21.47</td>\n",
       "      <td>676</td>\n",
       "      <td>97</td>\n",
       "      <td>0.025929</td>\n",
       "      <td>0.139224</td>\n",
       "      <td>0.089012</td>\n",
       "      <td>0.011929</td>\n",
       "    </tr>\n",
       "    <tr>\n",
       "      <th>1</th>\n",
       "      <td>TW_4104</td>\n",
       "      <td>2004</td>\n",
       "      <td>-0.367772</td>\n",
       "      <td>0.4290</td>\n",
       "      <td>0.0000</td>\n",
       "      <td>0.0085</td>\n",
       "      <td>1.02</td>\n",
       "      <td>1.02</td>\n",
       "      <td>0.2852</td>\n",
       "      <td>0.0833</td>\n",
       "      <td>-0.1299</td>\n",
       "      <td>9.11</td>\n",
       "      <td>2617</td>\n",
       "      <td>2600</td>\n",
       "      <td>-0.131299</td>\n",
       "      <td>0.907680</td>\n",
       "      <td>0.062351</td>\n",
       "      <td>-0.145299</td>\n",
       "    </tr>\n",
       "    <tr>\n",
       "      <th>2</th>\n",
       "      <td>TW_4106</td>\n",
       "      <td>2004</td>\n",
       "      <td>-0.355042</td>\n",
       "      <td>0.4095</td>\n",
       "      <td>0.0000</td>\n",
       "      <td>0.0466</td>\n",
       "      <td>1.41</td>\n",
       "      <td>1.41</td>\n",
       "      <td>0.3556</td>\n",
       "      <td>0.0865</td>\n",
       "      <td>0.2461</td>\n",
       "      <td>10.40</td>\n",
       "      <td>1433</td>\n",
       "      <td>566</td>\n",
       "      <td>-0.024856</td>\n",
       "      <td>0.362419</td>\n",
       "      <td>0.065373</td>\n",
       "      <td>-0.038856</td>\n",
       "    </tr>\n",
       "    <tr>\n",
       "      <th>3</th>\n",
       "      <td>TW_4306</td>\n",
       "      <td>2004</td>\n",
       "      <td>-0.247998</td>\n",
       "      <td>0.3274</td>\n",
       "      <td>0.0000</td>\n",
       "      <td>0.0349</td>\n",
       "      <td>1.22</td>\n",
       "      <td>1.22</td>\n",
       "      <td>0.3966</td>\n",
       "      <td>0.0720</td>\n",
       "      <td>0.1142</td>\n",
       "      <td>10.04</td>\n",
       "      <td>1804</td>\n",
       "      <td>3289</td>\n",
       "      <td>0.138342</td>\n",
       "      <td>1.817253</td>\n",
       "      <td>0.104051</td>\n",
       "      <td>0.124342</td>\n",
       "    </tr>\n",
       "    <tr>\n",
       "      <th>4</th>\n",
       "      <td>TW_4414</td>\n",
       "      <td>2004</td>\n",
       "      <td>-0.353300</td>\n",
       "      <td>0.2041</td>\n",
       "      <td>0.5593</td>\n",
       "      <td>0.0017</td>\n",
       "      <td>1.01</td>\n",
       "      <td>1.01</td>\n",
       "      <td>0.5920</td>\n",
       "      <td>0.0635</td>\n",
       "      <td>0.1234</td>\n",
       "      <td>21.24</td>\n",
       "      <td>1694</td>\n",
       "      <td>3287</td>\n",
       "      <td>0.609740</td>\n",
       "      <td>2.519411</td>\n",
       "      <td>0.095785</td>\n",
       "      <td>0.595740</td>\n",
       "    </tr>\n",
       "  </tbody>\n",
       "</table>\n",
       "</div>"
      ],
      "text/plain": [
       "       sid  yyyy  risk_premium  Lag_shr  Lag_she  Lag_mshe  Lag_Tobins_Q  \\\n",
       "0  TW_3090  2004     -0.177336   0.3232   0.0000    0.0666          0.99   \n",
       "1  TW_4104  2004     -0.367772   0.4290   0.0000    0.0085          1.02   \n",
       "2  TW_4106  2004     -0.355042   0.4095   0.0000    0.0466          1.41   \n",
       "3  TW_4306  2004     -0.247998   0.3274   0.0000    0.0349          1.22   \n",
       "4  TW_4414  2004     -0.353300   0.2041   0.5593    0.0017          1.01   \n",
       "\n",
       "   Lag_Tobins_Q_A  Lag_debtr  Lag_dy  Lag_netg  Lag_PE  Lag_par  Lag_sale  \\\n",
       "0            0.99     0.6098  0.0722    0.3185   21.47      676        97   \n",
       "1            1.02     0.2852  0.0833   -0.1299    9.11     2617      2600   \n",
       "2            1.41     0.3556  0.0865    0.2461   10.40     1433       566   \n",
       "3            1.22     0.3966  0.0720    0.1142   10.04     1804      3289   \n",
       "4            1.01     0.5920  0.0635    0.1234   21.24     1694      3287   \n",
       "\n",
       "   Lag_return  Lag_turn  Lag_idiorisk  Lag_riskprem  \n",
       "0    0.025929  0.139224      0.089012      0.011929  \n",
       "1   -0.131299  0.907680      0.062351     -0.145299  \n",
       "2   -0.024856  0.362419      0.065373     -0.038856  \n",
       "3    0.138342  1.817253      0.104051      0.124342  \n",
       "4    0.609740  2.519411      0.095785      0.595740  "
      ]
     },
     "execution_count": 6,
     "metadata": {},
     "output_type": "execute_result"
    }
   ],
   "source": [
    "all_data.head(5)"
   ]
  },
  {
   "cell_type": "code",
   "execution_count": 7,
   "id": "2f946a3f",
   "metadata": {},
   "outputs": [],
   "source": [
    "train = all_data[all_data[\"yyyy\"]<=2019]"
   ]
  },
  {
   "cell_type": "code",
   "execution_count": 8,
   "id": "dcb00936",
   "metadata": {},
   "outputs": [
    {
     "data": {
      "text/plain": [
       "(9151, 18)"
      ]
     },
     "execution_count": 8,
     "metadata": {},
     "output_type": "execute_result"
    }
   ],
   "source": [
    "train.shape"
   ]
  },
  {
   "cell_type": "code",
   "execution_count": null,
   "id": "2c552159",
   "metadata": {},
   "outputs": [],
   "source": []
  },
  {
   "cell_type": "code",
   "execution_count": 9,
   "id": "61d40e3c",
   "metadata": {},
   "outputs": [
    {
     "data": {
      "text/plain": [
       "Index(['sid', 'yyyy', 'risk_premium', 'Lag_shr', 'Lag_she', 'Lag_mshe',\n",
       "       'Lag_Tobins_Q', 'Lag_Tobins_Q_A', 'Lag_debtr', 'Lag_dy', 'Lag_netg',\n",
       "       'Lag_PE', 'Lag_par', 'Lag_sale', 'Lag_return', 'Lag_turn',\n",
       "       'Lag_idiorisk', 'Lag_riskprem'],\n",
       "      dtype='object')"
      ]
     },
     "execution_count": 9,
     "metadata": {},
     "output_type": "execute_result"
    }
   ],
   "source": [
    "train.columns"
   ]
  },
  {
   "cell_type": "code",
   "execution_count": 10,
   "id": "980e85c2",
   "metadata": {},
   "outputs": [
    {
     "data": {
      "text/plain": [
       "(769, 18)"
      ]
     },
     "execution_count": 10,
     "metadata": {},
     "output_type": "execute_result"
    }
   ],
   "source": [
    "test_2020 = all_data[all_data[\"yyyy\"]==2020]\n",
    "test_2020.shape"
   ]
  },
  {
   "cell_type": "code",
   "execution_count": 11,
   "id": "572980d2",
   "metadata": {},
   "outputs": [
    {
     "data": {
      "text/plain": [
       "(664, 18)"
      ]
     },
     "execution_count": 11,
     "metadata": {},
     "output_type": "execute_result"
    }
   ],
   "source": [
    "test_2021 = all_data[all_data[\"yyyy\"]==2021]\n",
    "test_2021.shape"
   ]
  },
  {
   "cell_type": "code",
   "execution_count": 12,
   "id": "8b7a7b91",
   "metadata": {
    "scrolled": true
   },
   "outputs": [],
   "source": [
    "from sklearn.feature_extraction.text import TfidfVectorizer\n",
    "from sklearn.linear_model import LinearRegression, BayesianRidge, LogisticRegression\n",
    "from lightgbm import LGBMRegressor, LGBMClassifier\n",
    "from sklearn.model_selection import train_test_split\n",
    "from itertools import combinations\n",
    "from sklearn.metrics import accuracy_score, confusion_matrix, recall_score, f1_score, classification_report, mean_absolute_error, r2_score, mean_squared_error, mean_absolute_error"
   ]
  },
  {
   "cell_type": "code",
   "execution_count": 13,
   "id": "b85adc0e",
   "metadata": {},
   "outputs": [],
   "source": [
    "def liner(start,k,col,train,test_set):\n",
    "    X_train, y_train = train[col], train['risk_premium']\n",
    "    X_test, y_test = test_set[col], test_set['risk_premium']\n",
    "    lr = LinearRegression()\n",
    "    lr.fit(X_train, y_train)\n",
    "    y_pred = lr.predict(X_test)\n",
    "    mae = mean_absolute_error(y_true=y_test, y_pred=y_pred)\n",
    "    rmse = mean_squared_error(y_true=y_test, y_pred=y_pred, squared=False)\n",
    "    if k:\n",
    "        return {\"star_yyyy\":start,\"YEAR\":2020,\"COL\":col, \"MAE\":'{:.6f}'.format(mae), \"RMSE\":'{:.6f}'.format(rmse)}\n",
    "    return {\"star_yyyy\":start,\"YEAR\":2021,\"COL\":col, \"MAE\":'{:.6f}'.format(mae), \"RMSE\":'{:.6f}'.format(rmse)}"
   ]
  },
  {
   "cell_type": "code",
   "execution_count": 14,
   "id": "35a0a55f",
   "metadata": {},
   "outputs": [],
   "source": [
    "train.columns\n",
    "tests = [test_2020,test_2021]\n",
    "col_list = ['Lag_shr', 'Lag_she', 'Lag_mshe',\n",
    "       'Lag_Tobins_Q', 'Lag_Tobins_Q_A', 'Lag_debtr', 'Lag_dy', 'Lag_netg',\n",
    "       'Lag_PE', 'Lag_par', 'Lag_sale', 'Lag_return', 'Lag_turn',\n",
    "       'Lag_idiorisk', 'Lag_riskprem']"
   ]
  },
  {
   "cell_type": "code",
   "execution_count": 15,
   "id": "35b78851",
   "metadata": {},
   "outputs": [
    {
     "name": "stdout",
     "output_type": "stream",
     "text": [
      "B0+B1*Lag_shr+B2*Lag_she+B3*Lag_mshe+B4*Lag_Tobins_Q+B5*Lag_Tobins_Q_A+B6*Lag_debtr+B7*Lag_dy+B8*Lag_netg+B9*Lag_PE+B10*Lag_par+B11*Lag_sale+B12*Lag_return+B13*Lag_turn+B14*Lag_idiorisk+B15*Lag_riskprem\n"
     ]
    }
   ],
   "source": [
    "s=\"B0\"\n",
    "for i in range(len(col_list)):\n",
    "    s += \"+B\"+str(i+1)+\"*\"+col_list[i]\n",
    "print(s)"
   ]
  },
  {
   "cell_type": "code",
   "execution_count": 16,
   "id": "5f35f1fe",
   "metadata": {},
   "outputs": [],
   "source": [
    "import time"
   ]
  },
  {
   "cell_type": "code",
   "execution_count": 17,
   "id": "d2ce5dd5",
   "metadata": {},
   "outputs": [
    {
     "name": "stdout",
     "output_type": "stream",
     "text": [
      "2003\n",
      "2004\n",
      "2005\n",
      "2006\n",
      "2007\n",
      "2008\n",
      "2009\n",
      "2010\n",
      "2011\n",
      "2012\n",
      "2013\n",
      "2014\n",
      "2015\n",
      "2016\n",
      "2017\n"
     ]
    }
   ],
   "source": [
    "for i in range(2003,2018,1):\n",
    "    print(i)"
   ]
  },
  {
   "cell_type": "code",
   "execution_count": 18,
   "id": "8d023db6",
   "metadata": {
    "scrolled": true
   },
   "outputs": [
    {
     "name": "stdout",
     "output_type": "stream",
     "text": [
      "{'star_yyyy': 2004, 'YEAR': 2020, 'COL': ['Lag_shr', 'Lag_she', 'Lag_mshe', 'Lag_Tobins_Q', 'Lag_Tobins_Q_A', 'Lag_debtr', 'Lag_dy', 'Lag_netg', 'Lag_PE', 'Lag_par', 'Lag_sale', 'Lag_return', 'Lag_turn', 'Lag_idiorisk', 'Lag_riskprem'], 'MAE': '0.271442', 'RMSE': '0.373940'}\n",
      "{'star_yyyy': 2005, 'YEAR': 2020, 'COL': ['Lag_shr', 'Lag_she', 'Lag_mshe', 'Lag_Tobins_Q', 'Lag_Tobins_Q_A', 'Lag_debtr', 'Lag_dy', 'Lag_netg', 'Lag_PE', 'Lag_par', 'Lag_sale', 'Lag_return', 'Lag_turn', 'Lag_idiorisk', 'Lag_riskprem'], 'MAE': '0.270953', 'RMSE': '0.373584'}\n",
      "{'star_yyyy': 2006, 'YEAR': 2020, 'COL': ['Lag_shr', 'Lag_she', 'Lag_mshe', 'Lag_Tobins_Q', 'Lag_Tobins_Q_A', 'Lag_debtr', 'Lag_dy', 'Lag_netg', 'Lag_PE', 'Lag_par', 'Lag_sale', 'Lag_return', 'Lag_turn', 'Lag_idiorisk', 'Lag_riskprem'], 'MAE': '0.273646', 'RMSE': '0.370650'}\n",
      "{'star_yyyy': 2007, 'YEAR': 2020, 'COL': ['Lag_shr', 'Lag_she', 'Lag_mshe', 'Lag_Tobins_Q', 'Lag_Tobins_Q_A', 'Lag_debtr', 'Lag_dy', 'Lag_netg', 'Lag_PE', 'Lag_par', 'Lag_sale', 'Lag_return', 'Lag_turn', 'Lag_idiorisk', 'Lag_riskprem'], 'MAE': '0.283228', 'RMSE': '0.376010'}\n",
      "{'star_yyyy': 2008, 'YEAR': 2020, 'COL': ['Lag_shr', 'Lag_she', 'Lag_mshe', 'Lag_Tobins_Q', 'Lag_Tobins_Q_A', 'Lag_debtr', 'Lag_dy', 'Lag_netg', 'Lag_PE', 'Lag_par', 'Lag_sale', 'Lag_return', 'Lag_turn', 'Lag_idiorisk', 'Lag_riskprem'], 'MAE': '0.321141', 'RMSE': '0.453228'}\n",
      "{'star_yyyy': 2009, 'YEAR': 2020, 'COL': ['Lag_shr', 'Lag_she', 'Lag_mshe', 'Lag_Tobins_Q', 'Lag_Tobins_Q_A', 'Lag_debtr', 'Lag_dy', 'Lag_netg', 'Lag_PE', 'Lag_par', 'Lag_sale', 'Lag_return', 'Lag_turn', 'Lag_idiorisk', 'Lag_riskprem'], 'MAE': '0.259827', 'RMSE': '0.379668'}\n",
      "{'star_yyyy': 2010, 'YEAR': 2020, 'COL': ['Lag_shr', 'Lag_she', 'Lag_mshe', 'Lag_Tobins_Q', 'Lag_Tobins_Q_A', 'Lag_debtr', 'Lag_dy', 'Lag_netg', 'Lag_PE', 'Lag_par', 'Lag_sale', 'Lag_return', 'Lag_turn', 'Lag_idiorisk', 'Lag_riskprem'], 'MAE': '0.280641', 'RMSE': '0.410192'}\n",
      "{'star_yyyy': 2011, 'YEAR': 2020, 'COL': ['Lag_shr', 'Lag_she', 'Lag_mshe', 'Lag_Tobins_Q', 'Lag_Tobins_Q_A', 'Lag_debtr', 'Lag_dy', 'Lag_netg', 'Lag_PE', 'Lag_par', 'Lag_sale', 'Lag_return', 'Lag_turn', 'Lag_idiorisk', 'Lag_riskprem'], 'MAE': '0.246199', 'RMSE': '0.352377'}\n",
      "{'star_yyyy': 2012, 'YEAR': 2020, 'COL': ['Lag_shr', 'Lag_she', 'Lag_mshe', 'Lag_Tobins_Q', 'Lag_Tobins_Q_A', 'Lag_debtr', 'Lag_dy', 'Lag_netg', 'Lag_PE', 'Lag_par', 'Lag_sale', 'Lag_return', 'Lag_turn', 'Lag_idiorisk', 'Lag_riskprem'], 'MAE': '0.244654', 'RMSE': '0.347291'}\n",
      "{'star_yyyy': 2013, 'YEAR': 2020, 'COL': ['Lag_shr', 'Lag_she', 'Lag_mshe', 'Lag_Tobins_Q', 'Lag_Tobins_Q_A', 'Lag_debtr', 'Lag_dy', 'Lag_netg', 'Lag_PE', 'Lag_par', 'Lag_sale', 'Lag_return', 'Lag_turn', 'Lag_idiorisk', 'Lag_riskprem'], 'MAE': '0.249265', 'RMSE': '0.335821'}\n",
      "{'star_yyyy': 2014, 'YEAR': 2020, 'COL': ['Lag_shr', 'Lag_she', 'Lag_mshe', 'Lag_Tobins_Q', 'Lag_Tobins_Q_A', 'Lag_debtr', 'Lag_dy', 'Lag_netg', 'Lag_PE', 'Lag_par', 'Lag_sale', 'Lag_return', 'Lag_turn', 'Lag_idiorisk', 'Lag_riskprem'], 'MAE': '0.262130', 'RMSE': '0.339174'}\n",
      "{'star_yyyy': 2015, 'YEAR': 2020, 'COL': ['Lag_shr', 'Lag_she', 'Lag_mshe', 'Lag_Tobins_Q', 'Lag_Tobins_Q_A', 'Lag_debtr', 'Lag_dy', 'Lag_netg', 'Lag_PE', 'Lag_par', 'Lag_sale', 'Lag_return', 'Lag_turn', 'Lag_idiorisk', 'Lag_riskprem'], 'MAE': '0.250620', 'RMSE': '0.354100'}\n",
      "{'star_yyyy': 2016, 'YEAR': 2020, 'COL': ['Lag_shr', 'Lag_she', 'Lag_mshe', 'Lag_Tobins_Q', 'Lag_Tobins_Q_A', 'Lag_debtr', 'Lag_dy', 'Lag_netg', 'Lag_PE', 'Lag_par', 'Lag_sale', 'Lag_return', 'Lag_turn', 'Lag_idiorisk', 'Lag_riskprem'], 'MAE': '0.257171', 'RMSE': '0.368766'}\n",
      "{'star_yyyy': 2017, 'YEAR': 2020, 'COL': ['Lag_shr', 'Lag_she', 'Lag_mshe', 'Lag_Tobins_Q', 'Lag_Tobins_Q_A', 'Lag_debtr', 'Lag_dy', 'Lag_netg', 'Lag_PE', 'Lag_par', 'Lag_sale', 'Lag_return', 'Lag_turn', 'Lag_idiorisk', 'Lag_riskprem'], 'MAE': '0.279362', 'RMSE': '0.401731'}\n",
      "{'star_yyyy': 2018, 'YEAR': 2020, 'COL': ['Lag_shr', 'Lag_she', 'Lag_mshe', 'Lag_Tobins_Q', 'Lag_Tobins_Q_A', 'Lag_debtr', 'Lag_dy', 'Lag_netg', 'Lag_PE', 'Lag_par', 'Lag_sale', 'Lag_return', 'Lag_turn', 'Lag_idiorisk', 'Lag_riskprem'], 'MAE': '0.250609', 'RMSE': '0.337998'}\n",
      "1654412700.0994651\n"
     ]
    }
   ],
   "source": [
    "start = time.time()\n",
    "result = []\n",
    "for start in range(2004,2019,1):\n",
    "    train = train[train[\"yyyy\"]!=start]\n",
    "    for i in range(len(col_list)):\n",
    "        n_comb = list(combinations(col_list, i+1))\n",
    "        for l in n_comb:\n",
    "            _in = list(l)\n",
    "            for k in range(2):\n",
    "                result.append(liner(start,k,_in,train,tests[k]))\n",
    "    print(result[-1])    \n",
    "end = time.time()\n",
    "print(format(end-start))"
   ]
  },
  {
   "cell_type": "code",
   "execution_count": 83,
   "id": "5a0b7c35",
   "metadata": {},
   "outputs": [
    {
     "data": {
      "text/plain": [
       "(983010, 6)"
      ]
     },
     "execution_count": 83,
     "metadata": {},
     "output_type": "execute_result"
    }
   ],
   "source": [
    "Result.shape"
   ]
  },
  {
   "cell_type": "code",
   "execution_count": 19,
   "id": "d296cdea",
   "metadata": {},
   "outputs": [],
   "source": [
    "Result = pd.DataFrame(result)\n",
    "Result.to_csv(\"Result_2.csv\")"
   ]
  },
  {
   "cell_type": "code",
   "execution_count": 20,
   "id": "cb4c409b",
   "metadata": {},
   "outputs": [],
   "source": [
    "Result = pd.read_csv(\"Result_2.csv\")"
   ]
  },
  {
   "cell_type": "code",
   "execution_count": 21,
   "id": "d022daf8",
   "metadata": {},
   "outputs": [
    {
     "data": {
      "text/html": [
       "<div>\n",
       "<style scoped>\n",
       "    .dataframe tbody tr th:only-of-type {\n",
       "        vertical-align: middle;\n",
       "    }\n",
       "\n",
       "    .dataframe tbody tr th {\n",
       "        vertical-align: top;\n",
       "    }\n",
       "\n",
       "    .dataframe thead th {\n",
       "        text-align: right;\n",
       "    }\n",
       "</style>\n",
       "<table border=\"1\" class=\"dataframe\">\n",
       "  <thead>\n",
       "    <tr style=\"text-align: right;\">\n",
       "      <th></th>\n",
       "      <th>Unnamed: 0</th>\n",
       "      <th>star_yyyy</th>\n",
       "      <th>YEAR</th>\n",
       "      <th>COL</th>\n",
       "      <th>MAE</th>\n",
       "      <th>RMSE</th>\n",
       "    </tr>\n",
       "  </thead>\n",
       "  <tbody>\n",
       "    <tr>\n",
       "      <th>0</th>\n",
       "      <td>0</td>\n",
       "      <td>2004</td>\n",
       "      <td>2021</td>\n",
       "      <td>['Lag_shr']</td>\n",
       "      <td>0.244951</td>\n",
       "      <td>0.351019</td>\n",
       "    </tr>\n",
       "    <tr>\n",
       "      <th>1</th>\n",
       "      <td>1</td>\n",
       "      <td>2004</td>\n",
       "      <td>2020</td>\n",
       "      <td>['Lag_shr']</td>\n",
       "      <td>0.239678</td>\n",
       "      <td>0.335815</td>\n",
       "    </tr>\n",
       "    <tr>\n",
       "      <th>2</th>\n",
       "      <td>2</td>\n",
       "      <td>2004</td>\n",
       "      <td>2021</td>\n",
       "      <td>['Lag_she']</td>\n",
       "      <td>0.245144</td>\n",
       "      <td>0.351193</td>\n",
       "    </tr>\n",
       "    <tr>\n",
       "      <th>3</th>\n",
       "      <td>3</td>\n",
       "      <td>2004</td>\n",
       "      <td>2020</td>\n",
       "      <td>['Lag_she']</td>\n",
       "      <td>0.239695</td>\n",
       "      <td>0.335788</td>\n",
       "    </tr>\n",
       "    <tr>\n",
       "      <th>4</th>\n",
       "      <td>4</td>\n",
       "      <td>2004</td>\n",
       "      <td>2021</td>\n",
       "      <td>['Lag_mshe']</td>\n",
       "      <td>0.244855</td>\n",
       "      <td>0.350937</td>\n",
       "    </tr>\n",
       "    <tr>\n",
       "      <th>5</th>\n",
       "      <td>5</td>\n",
       "      <td>2004</td>\n",
       "      <td>2020</td>\n",
       "      <td>['Lag_mshe']</td>\n",
       "      <td>0.239521</td>\n",
       "      <td>0.335701</td>\n",
       "    </tr>\n",
       "    <tr>\n",
       "      <th>6</th>\n",
       "      <td>6</td>\n",
       "      <td>2004</td>\n",
       "      <td>2021</td>\n",
       "      <td>['Lag_Tobins_Q']</td>\n",
       "      <td>0.248147</td>\n",
       "      <td>0.368114</td>\n",
       "    </tr>\n",
       "    <tr>\n",
       "      <th>7</th>\n",
       "      <td>7</td>\n",
       "      <td>2004</td>\n",
       "      <td>2020</td>\n",
       "      <td>['Lag_Tobins_Q']</td>\n",
       "      <td>0.249211</td>\n",
       "      <td>0.358149</td>\n",
       "    </tr>\n",
       "    <tr>\n",
       "      <th>8</th>\n",
       "      <td>8</td>\n",
       "      <td>2004</td>\n",
       "      <td>2021</td>\n",
       "      <td>['Lag_Tobins_Q_A']</td>\n",
       "      <td>0.248224</td>\n",
       "      <td>0.368244</td>\n",
       "    </tr>\n",
       "    <tr>\n",
       "      <th>9</th>\n",
       "      <td>9</td>\n",
       "      <td>2004</td>\n",
       "      <td>2020</td>\n",
       "      <td>['Lag_Tobins_Q_A']</td>\n",
       "      <td>0.249193</td>\n",
       "      <td>0.358100</td>\n",
       "    </tr>\n",
       "  </tbody>\n",
       "</table>\n",
       "</div>"
      ],
      "text/plain": [
       "   Unnamed: 0  star_yyyy  YEAR                 COL       MAE      RMSE\n",
       "0           0       2004  2021         ['Lag_shr']  0.244951  0.351019\n",
       "1           1       2004  2020         ['Lag_shr']  0.239678  0.335815\n",
       "2           2       2004  2021         ['Lag_she']  0.245144  0.351193\n",
       "3           3       2004  2020         ['Lag_she']  0.239695  0.335788\n",
       "4           4       2004  2021        ['Lag_mshe']  0.244855  0.350937\n",
       "5           5       2004  2020        ['Lag_mshe']  0.239521  0.335701\n",
       "6           6       2004  2021    ['Lag_Tobins_Q']  0.248147  0.368114\n",
       "7           7       2004  2020    ['Lag_Tobins_Q']  0.249211  0.358149\n",
       "8           8       2004  2021  ['Lag_Tobins_Q_A']  0.248224  0.368244\n",
       "9           9       2004  2020  ['Lag_Tobins_Q_A']  0.249193  0.358100"
      ]
     },
     "execution_count": 21,
     "metadata": {},
     "output_type": "execute_result"
    }
   ],
   "source": [
    "Result.head(10)"
   ]
  },
  {
   "cell_type": "code",
   "execution_count": 22,
   "id": "1b34915f",
   "metadata": {},
   "outputs": [
    {
     "data": {
      "text/plain": [
       "(983010, 6)"
      ]
     },
     "execution_count": 22,
     "metadata": {},
     "output_type": "execute_result"
    }
   ],
   "source": [
    "Result.shape"
   ]
  },
  {
   "cell_type": "code",
   "execution_count": 23,
   "id": "0a48e3b7",
   "metadata": {},
   "outputs": [
    {
     "data": {
      "text/plain": [
       "(982870, 6)"
      ]
     },
     "execution_count": 23,
     "metadata": {},
     "output_type": "execute_result"
    }
   ],
   "source": [
    "Result=Result[Result[\"MAE\"]<1]\n",
    "Result=Result[Result[\"RMSE\"]<1]\n",
    "Result.shape"
   ]
  },
  {
   "cell_type": "code",
   "execution_count": 54,
   "id": "0289c973",
   "metadata": {},
   "outputs": [
    {
     "name": "stderr",
     "output_type": "stream",
     "text": [
      "C:\\Users\\ed307\\AppData\\Local\\Temp/ipykernel_28700/561670079.py:3: UserWarning: Boolean Series key will be reindexed to match DataFrame index.\n",
      "  Result_1=Result_1[Result[\"RMSE\"]<0.3357]\n"
     ]
    },
    {
     "data": {
      "text/plain": [
       "(6, 6)"
      ]
     },
     "execution_count": 54,
     "metadata": {},
     "output_type": "execute_result"
    }
   ],
   "source": [
    "Result = pd.read_csv(\"Result_2.csv\")\n",
    "Result_1=Result[Result[\"MAE\"]<0.2397]\n",
    "Result_1=Result_1[Result[\"RMSE\"]<0.3357]\n",
    "Result_1.shape"
   ]
  },
  {
   "cell_type": "code",
   "execution_count": 70,
   "id": "e9130fbf",
   "metadata": {},
   "outputs": [
    {
     "data": {
      "text/html": [
       "<div>\n",
       "<style scoped>\n",
       "    .dataframe tbody tr th:only-of-type {\n",
       "        vertical-align: middle;\n",
       "    }\n",
       "\n",
       "    .dataframe tbody tr th {\n",
       "        vertical-align: top;\n",
       "    }\n",
       "\n",
       "    .dataframe thead th {\n",
       "        text-align: right;\n",
       "    }\n",
       "</style>\n",
       "<table border=\"1\" class=\"dataframe\">\n",
       "  <thead>\n",
       "    <tr style=\"text-align: right;\">\n",
       "      <th></th>\n",
       "      <th>Unnamed: 0</th>\n",
       "      <th>star_yyyy</th>\n",
       "      <th>YEAR</th>\n",
       "      <th>COL</th>\n",
       "      <th>MAE</th>\n",
       "      <th>RMSE</th>\n",
       "    </tr>\n",
       "  </thead>\n",
       "  <tbody>\n",
       "    <tr>\n",
       "      <th>59</th>\n",
       "      <td>59</td>\n",
       "      <td>2004</td>\n",
       "      <td>2020</td>\n",
       "      <td>['Lag_she', 'Lag_mshe']</td>\n",
       "      <td>0.239557</td>\n",
       "      <td>0.335671</td>\n",
       "    </tr>\n",
       "    <tr>\n",
       "      <th>105</th>\n",
       "      <td>105</td>\n",
       "      <td>2004</td>\n",
       "      <td>2020</td>\n",
       "      <td>['Lag_mshe', 'Lag_idiorisk']</td>\n",
       "      <td>0.239609</td>\n",
       "      <td>0.335586</td>\n",
       "    </tr>\n",
       "    <tr>\n",
       "      <th>287</th>\n",
       "      <td>287</td>\n",
       "      <td>2004</td>\n",
       "      <td>2020</td>\n",
       "      <td>['Lag_shr', 'Lag_mshe', 'Lag_idiorisk']</td>\n",
       "      <td>0.239614</td>\n",
       "      <td>0.335588</td>\n",
       "    </tr>\n",
       "    <tr>\n",
       "      <th>443</th>\n",
       "      <td>443</td>\n",
       "      <td>2004</td>\n",
       "      <td>2020</td>\n",
       "      <td>['Lag_she', 'Lag_mshe', 'Lag_idiorisk']</td>\n",
       "      <td>0.239646</td>\n",
       "      <td>0.335559</td>\n",
       "    </tr>\n",
       "    <tr>\n",
       "      <th>665</th>\n",
       "      <td>665</td>\n",
       "      <td>2004</td>\n",
       "      <td>2020</td>\n",
       "      <td>['Lag_mshe', 'Lag_netg', 'Lag_idiorisk']</td>\n",
       "      <td>0.239676</td>\n",
       "      <td>0.335651</td>\n",
       "    </tr>\n",
       "    <tr>\n",
       "      <th>1393</th>\n",
       "      <td>1393</td>\n",
       "      <td>2004</td>\n",
       "      <td>2020</td>\n",
       "      <td>['Lag_shr', 'Lag_mshe', 'Lag_netg', 'Lag_idior...</td>\n",
       "      <td>0.239676</td>\n",
       "      <td>0.335650</td>\n",
       "    </tr>\n",
       "  </tbody>\n",
       "</table>\n",
       "</div>"
      ],
      "text/plain": [
       "      Unnamed: 0  star_yyyy  YEAR  \\\n",
       "59            59       2004  2020   \n",
       "105          105       2004  2020   \n",
       "287          287       2004  2020   \n",
       "443          443       2004  2020   \n",
       "665          665       2004  2020   \n",
       "1393        1393       2004  2020   \n",
       "\n",
       "                                                    COL       MAE      RMSE  \n",
       "59                              ['Lag_she', 'Lag_mshe']  0.239557  0.335671  \n",
       "105                        ['Lag_mshe', 'Lag_idiorisk']  0.239609  0.335586  \n",
       "287             ['Lag_shr', 'Lag_mshe', 'Lag_idiorisk']  0.239614  0.335588  \n",
       "443             ['Lag_she', 'Lag_mshe', 'Lag_idiorisk']  0.239646  0.335559  \n",
       "665            ['Lag_mshe', 'Lag_netg', 'Lag_idiorisk']  0.239676  0.335651  \n",
       "1393  ['Lag_shr', 'Lag_mshe', 'Lag_netg', 'Lag_idior...  0.239676  0.335650  "
      ]
     },
     "execution_count": 70,
     "metadata": {},
     "output_type": "execute_result"
    }
   ],
   "source": [
    "Result_1"
   ]
  },
  {
   "cell_type": "code",
   "execution_count": 81,
   "id": "cbe85e1a",
   "metadata": {},
   "outputs": [
    {
     "name": "stderr",
     "output_type": "stream",
     "text": [
      "C:\\Users\\ed307\\AppData\\Local\\Temp/ipykernel_28700/1089787944.py:3: UserWarning: Boolean Series key will be reindexed to match DataFrame index.\n",
      "  Result_1=Result_1[Result[\"RMSE\"]>1]\n"
     ]
    },
    {
     "data": {
      "text/plain": [
       "(140, 6)"
      ]
     },
     "execution_count": 81,
     "metadata": {},
     "output_type": "execute_result"
    }
   ],
   "source": [
    "Result = pd.read_csv(\"Result_2.csv\")\n",
    "Result_1=Result[Result[\"MAE\"]>1]\n",
    "Result_1=Result_1[Result[\"RMSE\"]>1]\n",
    "Result_1.shape"
   ]
  },
  {
   "cell_type": "code",
   "execution_count": 82,
   "id": "26131ade",
   "metadata": {},
   "outputs": [
    {
     "data": {
      "text/html": [
       "<div>\n",
       "<style scoped>\n",
       "    .dataframe tbody tr th:only-of-type {\n",
       "        vertical-align: middle;\n",
       "    }\n",
       "\n",
       "    .dataframe tbody tr th {\n",
       "        vertical-align: top;\n",
       "    }\n",
       "\n",
       "    .dataframe thead th {\n",
       "        text-align: right;\n",
       "    }\n",
       "</style>\n",
       "<table border=\"1\" class=\"dataframe\">\n",
       "  <thead>\n",
       "    <tr style=\"text-align: right;\">\n",
       "      <th></th>\n",
       "      <th>Unnamed: 0</th>\n",
       "      <th>star_yyyy</th>\n",
       "      <th>YEAR</th>\n",
       "      <th>COL</th>\n",
       "      <th>MAE</th>\n",
       "      <th>RMSE</th>\n",
       "    </tr>\n",
       "  </thead>\n",
       "  <tbody>\n",
       "    <tr>\n",
       "      <th>786641</th>\n",
       "      <td>786641</td>\n",
       "      <td>2016</td>\n",
       "      <td>2020</td>\n",
       "      <td>['Lag_return', 'Lag_riskprem']</td>\n",
       "      <td>8.510155e+09</td>\n",
       "      <td>8.510155e+09</td>\n",
       "    </tr>\n",
       "    <tr>\n",
       "      <th>786979</th>\n",
       "      <td>786979</td>\n",
       "      <td>2016</td>\n",
       "      <td>2020</td>\n",
       "      <td>['Lag_she', 'Lag_return', 'Lag_riskprem']</td>\n",
       "      <td>1.228722e+10</td>\n",
       "      <td>1.228722e+10</td>\n",
       "    </tr>\n",
       "    <tr>\n",
       "      <th>787383</th>\n",
       "      <td>787383</td>\n",
       "      <td>2016</td>\n",
       "      <td>2020</td>\n",
       "      <td>['Lag_debtr', 'Lag_return', 'Lag_riskprem']</td>\n",
       "      <td>5.835006e+07</td>\n",
       "      <td>5.835006e+07</td>\n",
       "    </tr>\n",
       "    <tr>\n",
       "      <th>787555</th>\n",
       "      <td>787555</td>\n",
       "      <td>2016</td>\n",
       "      <td>2020</td>\n",
       "      <td>['Lag_return', 'Lag_idiorisk', 'Lag_riskprem']</td>\n",
       "      <td>1.577395e+10</td>\n",
       "      <td>1.577395e+10</td>\n",
       "    </tr>\n",
       "    <tr>\n",
       "      <th>788111</th>\n",
       "      <td>788111</td>\n",
       "      <td>2016</td>\n",
       "      <td>2020</td>\n",
       "      <td>['Lag_shr', 'Lag_debtr', 'Lag_return', 'Lag_ri...</td>\n",
       "      <td>1.088119e+11</td>\n",
       "      <td>1.088119e+11</td>\n",
       "    </tr>\n",
       "    <tr>\n",
       "      <th>788167</th>\n",
       "      <td>788167</td>\n",
       "      <td>2016</td>\n",
       "      <td>2020</td>\n",
       "      <td>['Lag_shr', 'Lag_dy', 'Lag_return', 'Lag_riskp...</td>\n",
       "      <td>7.527319e+10</td>\n",
       "      <td>7.527319e+10</td>\n",
       "    </tr>\n",
       "    <tr>\n",
       "      <th>788283</th>\n",
       "      <td>788283</td>\n",
       "      <td>2016</td>\n",
       "      <td>2020</td>\n",
       "      <td>['Lag_shr', 'Lag_return', 'Lag_idiorisk', 'Lag...</td>\n",
       "      <td>1.522885e+10</td>\n",
       "      <td>1.522885e+10</td>\n",
       "    </tr>\n",
       "    <tr>\n",
       "      <th>789865</th>\n",
       "      <td>789865</td>\n",
       "      <td>2016</td>\n",
       "      <td>2020</td>\n",
       "      <td>['Lag_Tobins_Q_A', 'Lag_return', 'Lag_idiorisk...</td>\n",
       "      <td>8.652643e+09</td>\n",
       "      <td>8.652643e+09</td>\n",
       "    </tr>\n",
       "    <tr>\n",
       "      <th>789917</th>\n",
       "      <td>789917</td>\n",
       "      <td>2016</td>\n",
       "      <td>2020</td>\n",
       "      <td>['Lag_debtr', 'Lag_dy', 'Lag_return', 'Lag_ris...</td>\n",
       "      <td>9.573105e+10</td>\n",
       "      <td>9.573105e+10</td>\n",
       "    </tr>\n",
       "    <tr>\n",
       "      <th>790033</th>\n",
       "      <td>790033</td>\n",
       "      <td>2016</td>\n",
       "      <td>2020</td>\n",
       "      <td>['Lag_debtr', 'Lag_return', 'Lag_idiorisk', 'L...</td>\n",
       "      <td>3.632438e+09</td>\n",
       "      <td>3.632438e+09</td>\n",
       "    </tr>\n",
       "  </tbody>\n",
       "</table>\n",
       "</div>"
      ],
      "text/plain": [
       "        Unnamed: 0  star_yyyy  YEAR  \\\n",
       "786641      786641       2016  2020   \n",
       "786979      786979       2016  2020   \n",
       "787383      787383       2016  2020   \n",
       "787555      787555       2016  2020   \n",
       "788111      788111       2016  2020   \n",
       "788167      788167       2016  2020   \n",
       "788283      788283       2016  2020   \n",
       "789865      789865       2016  2020   \n",
       "789917      789917       2016  2020   \n",
       "790033      790033       2016  2020   \n",
       "\n",
       "                                                      COL           MAE  \\\n",
       "786641                     ['Lag_return', 'Lag_riskprem']  8.510155e+09   \n",
       "786979          ['Lag_she', 'Lag_return', 'Lag_riskprem']  1.228722e+10   \n",
       "787383        ['Lag_debtr', 'Lag_return', 'Lag_riskprem']  5.835006e+07   \n",
       "787555     ['Lag_return', 'Lag_idiorisk', 'Lag_riskprem']  1.577395e+10   \n",
       "788111  ['Lag_shr', 'Lag_debtr', 'Lag_return', 'Lag_ri...  1.088119e+11   \n",
       "788167  ['Lag_shr', 'Lag_dy', 'Lag_return', 'Lag_riskp...  7.527319e+10   \n",
       "788283  ['Lag_shr', 'Lag_return', 'Lag_idiorisk', 'Lag...  1.522885e+10   \n",
       "789865  ['Lag_Tobins_Q_A', 'Lag_return', 'Lag_idiorisk...  8.652643e+09   \n",
       "789917  ['Lag_debtr', 'Lag_dy', 'Lag_return', 'Lag_ris...  9.573105e+10   \n",
       "790033  ['Lag_debtr', 'Lag_return', 'Lag_idiorisk', 'L...  3.632438e+09   \n",
       "\n",
       "                RMSE  \n",
       "786641  8.510155e+09  \n",
       "786979  1.228722e+10  \n",
       "787383  5.835006e+07  \n",
       "787555  1.577395e+10  \n",
       "788111  1.088119e+11  \n",
       "788167  7.527319e+10  \n",
       "788283  1.522885e+10  \n",
       "789865  8.652643e+09  \n",
       "789917  9.573105e+10  \n",
       "790033  3.632438e+09  "
      ]
     },
     "execution_count": 82,
     "metadata": {},
     "output_type": "execute_result"
    }
   ],
   "source": [
    "Result_1.head(10)"
   ]
  },
  {
   "cell_type": "code",
   "execution_count": 59,
   "id": "4c6d1b65",
   "metadata": {},
   "outputs": [
    {
     "data": {
      "text/html": [
       "<div>\n",
       "<style scoped>\n",
       "    .dataframe tbody tr th:only-of-type {\n",
       "        vertical-align: middle;\n",
       "    }\n",
       "\n",
       "    .dataframe tbody tr th {\n",
       "        vertical-align: top;\n",
       "    }\n",
       "\n",
       "    .dataframe thead th {\n",
       "        text-align: right;\n",
       "    }\n",
       "</style>\n",
       "<table border=\"1\" class=\"dataframe\">\n",
       "  <thead>\n",
       "    <tr style=\"text-align: right;\">\n",
       "      <th></th>\n",
       "      <th>Unnamed: 0</th>\n",
       "      <th>star_yyyy</th>\n",
       "      <th>YEAR</th>\n",
       "      <th>COL</th>\n",
       "      <th>MAE</th>\n",
       "      <th>RMSE</th>\n",
       "    </tr>\n",
       "  </thead>\n",
       "  <tbody>\n",
       "    <tr>\n",
       "      <th>1393</th>\n",
       "      <td>1393</td>\n",
       "      <td>2004</td>\n",
       "      <td>2020</td>\n",
       "      <td>['Lag_shr', 'Lag_mshe', 'Lag_netg', 'Lag_idior...</td>\n",
       "      <td>0.239676</td>\n",
       "      <td>0.335650</td>\n",
       "    </tr>\n",
       "    <tr>\n",
       "      <th>1392</th>\n",
       "      <td>1392</td>\n",
       "      <td>2004</td>\n",
       "      <td>2021</td>\n",
       "      <td>['Lag_shr', 'Lag_mshe', 'Lag_netg', 'Lag_idior...</td>\n",
       "      <td>0.245178</td>\n",
       "      <td>0.351773</td>\n",
       "    </tr>\n",
       "  </tbody>\n",
       "</table>\n",
       "</div>"
      ],
      "text/plain": [
       "      Unnamed: 0  star_yyyy  YEAR  \\\n",
       "1393        1393       2004  2020   \n",
       "1392        1392       2004  2021   \n",
       "\n",
       "                                                    COL       MAE      RMSE  \n",
       "1393  ['Lag_shr', 'Lag_mshe', 'Lag_netg', 'Lag_idior...  0.239676  0.335650  \n",
       "1392  ['Lag_shr', 'Lag_mshe', 'Lag_netg', 'Lag_idior...  0.245178  0.351773  "
      ]
     },
     "execution_count": 59,
     "metadata": {},
     "output_type": "execute_result"
    }
   ],
   "source": [
    "Result.iloc[[1393,1392]]"
   ]
  },
  {
   "cell_type": "code",
   "execution_count": 60,
   "id": "29617107",
   "metadata": {},
   "outputs": [
    {
     "data": {
      "text/plain": [
       "\"['Lag_shr', 'Lag_mshe', 'Lag_netg', 'Lag_idiorisk']\""
      ]
     },
     "execution_count": 60,
     "metadata": {},
     "output_type": "execute_result"
    }
   ],
   "source": [
    "Result.iloc[1393][\"COL\"]"
   ]
  },
  {
   "cell_type": "code",
   "execution_count": 225,
   "id": "2bb95661",
   "metadata": {},
   "outputs": [
    {
     "data": {
      "text/html": [
       "<div>\n",
       "<style scoped>\n",
       "    .dataframe tbody tr th:only-of-type {\n",
       "        vertical-align: middle;\n",
       "    }\n",
       "\n",
       "    .dataframe tbody tr th {\n",
       "        vertical-align: top;\n",
       "    }\n",
       "\n",
       "    .dataframe thead th {\n",
       "        text-align: right;\n",
       "    }\n",
       "</style>\n",
       "<table border=\"1\" class=\"dataframe\">\n",
       "  <thead>\n",
       "    <tr style=\"text-align: right;\">\n",
       "      <th></th>\n",
       "      <th>Unnamed: 0</th>\n",
       "      <th>star_yyyy</th>\n",
       "      <th>YEAR</th>\n",
       "      <th>COL</th>\n",
       "      <th>MAE</th>\n",
       "      <th>RMSE</th>\n",
       "    </tr>\n",
       "  </thead>\n",
       "  <tbody>\n",
       "    <tr>\n",
       "      <th>262140</th>\n",
       "      <td>262140</td>\n",
       "      <td>2008</td>\n",
       "      <td>2021</td>\n",
       "      <td>['Lag_mshe']</td>\n",
       "      <td>0.302576</td>\n",
       "      <td>0.504032</td>\n",
       "    </tr>\n",
       "    <tr>\n",
       "      <th>262142</th>\n",
       "      <td>262142</td>\n",
       "      <td>2008</td>\n",
       "      <td>2021</td>\n",
       "      <td>['Lag_Tobins_Q']</td>\n",
       "      <td>0.302714</td>\n",
       "      <td>0.508673</td>\n",
       "    </tr>\n",
       "    <tr>\n",
       "      <th>262152</th>\n",
       "      <td>262152</td>\n",
       "      <td>2008</td>\n",
       "      <td>2021</td>\n",
       "      <td>['Lag_PE']</td>\n",
       "      <td>0.303671</td>\n",
       "      <td>0.505320</td>\n",
       "    </tr>\n",
       "    <tr>\n",
       "      <th>262170</th>\n",
       "      <td>262170</td>\n",
       "      <td>2008</td>\n",
       "      <td>2021</td>\n",
       "      <td>['Lag_shr', 'Lag_Tobins_Q']</td>\n",
       "      <td>0.303298</td>\n",
       "      <td>0.508595</td>\n",
       "    </tr>\n",
       "    <tr>\n",
       "      <th>262196</th>\n",
       "      <td>262196</td>\n",
       "      <td>2008</td>\n",
       "      <td>2021</td>\n",
       "      <td>['Lag_she', 'Lag_Tobins_Q']</td>\n",
       "      <td>0.302672</td>\n",
       "      <td>0.508775</td>\n",
       "    </tr>\n",
       "    <tr>\n",
       "      <th>262206</th>\n",
       "      <td>262206</td>\n",
       "      <td>2008</td>\n",
       "      <td>2021</td>\n",
       "      <td>['Lag_she', 'Lag_PE']</td>\n",
       "      <td>0.303540</td>\n",
       "      <td>0.505797</td>\n",
       "    </tr>\n",
       "    <tr>\n",
       "      <th>262230</th>\n",
       "      <td>262230</td>\n",
       "      <td>2008</td>\n",
       "      <td>2021</td>\n",
       "      <td>['Lag_mshe', 'Lag_PE']</td>\n",
       "      <td>0.303539</td>\n",
       "      <td>0.505112</td>\n",
       "    </tr>\n",
       "    <tr>\n",
       "      <th>262378</th>\n",
       "      <td>262378</td>\n",
       "      <td>2008</td>\n",
       "      <td>2021</td>\n",
       "      <td>['Lag_shr', 'Lag_she', 'Lag_Tobins_Q']</td>\n",
       "      <td>0.303245</td>\n",
       "      <td>0.508743</td>\n",
       "    </tr>\n",
       "    <tr>\n",
       "      <th>262412</th>\n",
       "      <td>262412</td>\n",
       "      <td>2008</td>\n",
       "      <td>2021</td>\n",
       "      <td>['Lag_shr', 'Lag_mshe', 'Lag_PE']</td>\n",
       "      <td>0.303650</td>\n",
       "      <td>0.505074</td>\n",
       "    </tr>\n",
       "    <tr>\n",
       "      <th>262568</th>\n",
       "      <td>262568</td>\n",
       "      <td>2008</td>\n",
       "      <td>2021</td>\n",
       "      <td>['Lag_she', 'Lag_mshe', 'Lag_PE']</td>\n",
       "      <td>0.303485</td>\n",
       "      <td>0.505607</td>\n",
       "    </tr>\n",
       "    <tr>\n",
       "      <th>262570</th>\n",
       "      <td>262570</td>\n",
       "      <td>2008</td>\n",
       "      <td>2021</td>\n",
       "      <td>['Lag_she', 'Lag_mshe', 'Lag_par']</td>\n",
       "      <td>0.302833</td>\n",
       "      <td>0.505514</td>\n",
       "    </tr>\n",
       "    <tr>\n",
       "      <th>262574</th>\n",
       "      <td>262574</td>\n",
       "      <td>2008</td>\n",
       "      <td>2021</td>\n",
       "      <td>['Lag_she', 'Lag_mshe', 'Lag_return']</td>\n",
       "      <td>0.304073</td>\n",
       "      <td>0.511191</td>\n",
       "    </tr>\n",
       "    <tr>\n",
       "      <th>263296</th>\n",
       "      <td>263296</td>\n",
       "      <td>2008</td>\n",
       "      <td>2021</td>\n",
       "      <td>['Lag_shr', 'Lag_she', 'Lag_mshe', 'Lag_PE']</td>\n",
       "      <td>0.303645</td>\n",
       "      <td>0.505580</td>\n",
       "    </tr>\n",
       "    <tr>\n",
       "      <th>264096</th>\n",
       "      <td>264096</td>\n",
       "      <td>2008</td>\n",
       "      <td>2021</td>\n",
       "      <td>['Lag_she', 'Lag_mshe', 'Lag_netg', 'Lag_return']</td>\n",
       "      <td>0.304010</td>\n",
       "      <td>0.511045</td>\n",
       "    </tr>\n",
       "  </tbody>\n",
       "</table>\n",
       "</div>"
      ],
      "text/plain": [
       "        Unnamed: 0  star_yyyy  YEAR  \\\n",
       "262140      262140       2008  2021   \n",
       "262142      262142       2008  2021   \n",
       "262152      262152       2008  2021   \n",
       "262170      262170       2008  2021   \n",
       "262196      262196       2008  2021   \n",
       "262206      262206       2008  2021   \n",
       "262230      262230       2008  2021   \n",
       "262378      262378       2008  2021   \n",
       "262412      262412       2008  2021   \n",
       "262568      262568       2008  2021   \n",
       "262570      262570       2008  2021   \n",
       "262574      262574       2008  2021   \n",
       "263296      263296       2008  2021   \n",
       "264096      264096       2008  2021   \n",
       "\n",
       "                                                      COL       MAE      RMSE  \n",
       "262140                                       ['Lag_mshe']  0.302576  0.504032  \n",
       "262142                                   ['Lag_Tobins_Q']  0.302714  0.508673  \n",
       "262152                                         ['Lag_PE']  0.303671  0.505320  \n",
       "262170                        ['Lag_shr', 'Lag_Tobins_Q']  0.303298  0.508595  \n",
       "262196                        ['Lag_she', 'Lag_Tobins_Q']  0.302672  0.508775  \n",
       "262206                              ['Lag_she', 'Lag_PE']  0.303540  0.505797  \n",
       "262230                             ['Lag_mshe', 'Lag_PE']  0.303539  0.505112  \n",
       "262378             ['Lag_shr', 'Lag_she', 'Lag_Tobins_Q']  0.303245  0.508743  \n",
       "262412                  ['Lag_shr', 'Lag_mshe', 'Lag_PE']  0.303650  0.505074  \n",
       "262568                  ['Lag_she', 'Lag_mshe', 'Lag_PE']  0.303485  0.505607  \n",
       "262570                 ['Lag_she', 'Lag_mshe', 'Lag_par']  0.302833  0.505514  \n",
       "262574              ['Lag_she', 'Lag_mshe', 'Lag_return']  0.304073  0.511191  \n",
       "263296       ['Lag_shr', 'Lag_she', 'Lag_mshe', 'Lag_PE']  0.303645  0.505580  \n",
       "264096  ['Lag_she', 'Lag_mshe', 'Lag_netg', 'Lag_return']  0.304010  0.511045  "
      ]
     },
     "execution_count": 225,
     "metadata": {},
     "output_type": "execute_result"
    }
   ],
   "source": [
    "ind = []\n",
    "for i in Result_1.index:\n",
    "    ind.append(i+1)\n",
    "Result.iloc[ind]"
   ]
  },
  {
   "cell_type": "code",
   "execution_count": 226,
   "id": "9f08bb64",
   "metadata": {},
   "outputs": [],
   "source": [
    "result_2021=Result[Result[\"YEAR\"]==2021]"
   ]
  },
  {
   "cell_type": "code",
   "execution_count": 228,
   "id": "fc8752a5",
   "metadata": {},
   "outputs": [
    {
     "data": {
      "text/plain": [
       "0.294337"
      ]
     },
     "execution_count": 228,
     "metadata": {},
     "output_type": "execute_result"
    }
   ],
   "source": [
    "min(result_2021[\"MAE\"])"
   ]
  },
  {
   "cell_type": "code",
   "execution_count": 233,
   "id": "533b2884",
   "metadata": {},
   "outputs": [
    {
     "data": {
      "text/html": [
       "<div>\n",
       "<style scoped>\n",
       "    .dataframe tbody tr th:only-of-type {\n",
       "        vertical-align: middle;\n",
       "    }\n",
       "\n",
       "    .dataframe tbody tr th {\n",
       "        vertical-align: top;\n",
       "    }\n",
       "\n",
       "    .dataframe thead th {\n",
       "        text-align: right;\n",
       "    }\n",
       "</style>\n",
       "<table border=\"1\" class=\"dataframe\">\n",
       "  <thead>\n",
       "    <tr style=\"text-align: right;\">\n",
       "      <th></th>\n",
       "      <th>Unnamed: 0</th>\n",
       "      <th>star_yyyy</th>\n",
       "      <th>YEAR</th>\n",
       "      <th>COL</th>\n",
       "      <th>MAE</th>\n",
       "      <th>RMSE</th>\n",
       "    </tr>\n",
       "  </thead>\n",
       "  <tbody>\n",
       "    <tr>\n",
       "      <th>138647</th>\n",
       "      <td>138647</td>\n",
       "      <td>2006</td>\n",
       "      <td>2020</td>\n",
       "      <td>['Lag_mshe', 'Lag_Tobins_Q', 'Lag_PE', 'Lag_pa...</td>\n",
       "      <td>0.294337</td>\n",
       "      <td>0.471433</td>\n",
       "    </tr>\n",
       "    <tr>\n",
       "      <th>145225</th>\n",
       "      <td>145225</td>\n",
       "      <td>2006</td>\n",
       "      <td>2020</td>\n",
       "      <td>['Lag_she', 'Lag_mshe', 'Lag_Tobins_Q', 'Lag_P...</td>\n",
       "      <td>0.294337</td>\n",
       "      <td>0.471485</td>\n",
       "    </tr>\n",
       "    <tr>\n",
       "      <th>198329</th>\n",
       "      <td>198329</td>\n",
       "      <td>2007</td>\n",
       "      <td>2020</td>\n",
       "      <td>['Lag_shr', 'Lag_dy', 'Lag_PE', 'Lag_sale']</td>\n",
       "      <td>0.294337</td>\n",
       "      <td>0.473170</td>\n",
       "    </tr>\n",
       "    <tr>\n",
       "      <th>728415</th>\n",
       "      <td>728415</td>\n",
       "      <td>2015</td>\n",
       "      <td>2020</td>\n",
       "      <td>['Lag_mshe', 'Lag_Tobins_Q', 'Lag_netg', 'Lag_...</td>\n",
       "      <td>0.294337</td>\n",
       "      <td>0.474457</td>\n",
       "    </tr>\n",
       "    <tr>\n",
       "      <th>728649</th>\n",
       "      <td>728649</td>\n",
       "      <td>2015</td>\n",
       "      <td>2020</td>\n",
       "      <td>['Lag_mshe', 'Lag_Tobins_Q_A', 'Lag_netg', 'La...</td>\n",
       "      <td>0.294337</td>\n",
       "      <td>0.474340</td>\n",
       "    </tr>\n",
       "    <tr>\n",
       "      <th>733657</th>\n",
       "      <td>733657</td>\n",
       "      <td>2015</td>\n",
       "      <td>2020</td>\n",
       "      <td>['Lag_shr', 'Lag_Tobins_Q', 'Lag_dy', 'Lag_PE'...</td>\n",
       "      <td>0.294337</td>\n",
       "      <td>0.472535</td>\n",
       "    </tr>\n",
       "    <tr>\n",
       "      <th>806764</th>\n",
       "      <td>806764</td>\n",
       "      <td>2016</td>\n",
       "      <td>2021</td>\n",
       "      <td>['Lag_shr', 'Lag_she', 'Lag_mshe', 'Lag_Tobins...</td>\n",
       "      <td>0.294337</td>\n",
       "      <td>0.511782</td>\n",
       "    </tr>\n",
       "  </tbody>\n",
       "</table>\n",
       "</div>"
      ],
      "text/plain": [
       "        Unnamed: 0  star_yyyy  YEAR  \\\n",
       "138647      138647       2006  2020   \n",
       "145225      145225       2006  2020   \n",
       "198329      198329       2007  2020   \n",
       "728415      728415       2015  2020   \n",
       "728649      728649       2015  2020   \n",
       "733657      733657       2015  2020   \n",
       "806764      806764       2016  2021   \n",
       "\n",
       "                                                      COL       MAE      RMSE  \n",
       "138647  ['Lag_mshe', 'Lag_Tobins_Q', 'Lag_PE', 'Lag_pa...  0.294337  0.471433  \n",
       "145225  ['Lag_she', 'Lag_mshe', 'Lag_Tobins_Q', 'Lag_P...  0.294337  0.471485  \n",
       "198329        ['Lag_shr', 'Lag_dy', 'Lag_PE', 'Lag_sale']  0.294337  0.473170  \n",
       "728415  ['Lag_mshe', 'Lag_Tobins_Q', 'Lag_netg', 'Lag_...  0.294337  0.474457  \n",
       "728649  ['Lag_mshe', 'Lag_Tobins_Q_A', 'Lag_netg', 'La...  0.294337  0.474340  \n",
       "733657  ['Lag_shr', 'Lag_Tobins_Q', 'Lag_dy', 'Lag_PE'...  0.294337  0.472535  \n",
       "806764  ['Lag_shr', 'Lag_she', 'Lag_mshe', 'Lag_Tobins...  0.294337  0.511782  "
      ]
     },
     "execution_count": 233,
     "metadata": {},
     "output_type": "execute_result"
    }
   ],
   "source": [
    "Result[Result[\"MAE\"]==min(result_2021[\"MAE\"])]"
   ]
  },
  {
   "cell_type": "code",
   "execution_count": 235,
   "id": "21083e38",
   "metadata": {},
   "outputs": [
    {
     "data": {
      "text/html": [
       "<div>\n",
       "<style scoped>\n",
       "    .dataframe tbody tr th:only-of-type {\n",
       "        vertical-align: middle;\n",
       "    }\n",
       "\n",
       "    .dataframe tbody tr th {\n",
       "        vertical-align: top;\n",
       "    }\n",
       "\n",
       "    .dataframe thead th {\n",
       "        text-align: right;\n",
       "    }\n",
       "</style>\n",
       "<table border=\"1\" class=\"dataframe\">\n",
       "  <thead>\n",
       "    <tr style=\"text-align: right;\">\n",
       "      <th></th>\n",
       "      <th>Unnamed: 0</th>\n",
       "      <th>star_yyyy</th>\n",
       "      <th>YEAR</th>\n",
       "      <th>COL</th>\n",
       "      <th>MAE</th>\n",
       "      <th>RMSE</th>\n",
       "    </tr>\n",
       "  </thead>\n",
       "  <tbody>\n",
       "    <tr>\n",
       "      <th>806763</th>\n",
       "      <td>806763</td>\n",
       "      <td>2016</td>\n",
       "      <td>2020</td>\n",
       "      <td>['Lag_shr', 'Lag_she', 'Lag_mshe', 'Lag_Tobins...</td>\n",
       "      <td>0.283082</td>\n",
       "      <td>0.456039</td>\n",
       "    </tr>\n",
       "    <tr>\n",
       "      <th>806764</th>\n",
       "      <td>806764</td>\n",
       "      <td>2016</td>\n",
       "      <td>2021</td>\n",
       "      <td>['Lag_shr', 'Lag_she', 'Lag_mshe', 'Lag_Tobins...</td>\n",
       "      <td>0.294337</td>\n",
       "      <td>0.511782</td>\n",
       "    </tr>\n",
       "  </tbody>\n",
       "</table>\n",
       "</div>"
      ],
      "text/plain": [
       "        Unnamed: 0  star_yyyy  YEAR  \\\n",
       "806763      806763       2016  2020   \n",
       "806764      806764       2016  2021   \n",
       "\n",
       "                                                      COL       MAE      RMSE  \n",
       "806763  ['Lag_shr', 'Lag_she', 'Lag_mshe', 'Lag_Tobins...  0.283082  0.456039  \n",
       "806764  ['Lag_shr', 'Lag_she', 'Lag_mshe', 'Lag_Tobins...  0.294337  0.511782  "
      ]
     },
     "execution_count": 235,
     "metadata": {},
     "output_type": "execute_result"
    }
   ],
   "source": [
    "Result.iloc[[806763,806764]]"
   ]
  },
  {
   "cell_type": "code",
   "execution_count": 236,
   "id": "b9dd19e9",
   "metadata": {},
   "outputs": [
    {
     "data": {
      "text/html": [
       "<div>\n",
       "<style scoped>\n",
       "    .dataframe tbody tr th:only-of-type {\n",
       "        vertical-align: middle;\n",
       "    }\n",
       "\n",
       "    .dataframe tbody tr th {\n",
       "        vertical-align: top;\n",
       "    }\n",
       "\n",
       "    .dataframe thead th {\n",
       "        text-align: right;\n",
       "    }\n",
       "</style>\n",
       "<table border=\"1\" class=\"dataframe\">\n",
       "  <thead>\n",
       "    <tr style=\"text-align: right;\">\n",
       "      <th></th>\n",
       "      <th>Unnamed: 0</th>\n",
       "      <th>star_yyyy</th>\n",
       "      <th>YEAR</th>\n",
       "      <th>COL</th>\n",
       "      <th>MAE</th>\n",
       "      <th>RMSE</th>\n",
       "    </tr>\n",
       "  </thead>\n",
       "  <tbody>\n",
       "    <tr>\n",
       "      <th>106269</th>\n",
       "      <td>106269</td>\n",
       "      <td>2005</td>\n",
       "      <td>2020</td>\n",
       "      <td>['Lag_she', 'Lag_mshe', 'Lag_Tobins_Q_A', 'Lag...</td>\n",
       "      <td>0.318860</td>\n",
       "      <td>0.499949</td>\n",
       "    </tr>\n",
       "    <tr>\n",
       "      <th>203365</th>\n",
       "      <td>203365</td>\n",
       "      <td>2007</td>\n",
       "      <td>2020</td>\n",
       "      <td>['Lag_she', 'Lag_Tobins_Q_A', 'Lag_dy', 'Lag_s...</td>\n",
       "      <td>0.310497</td>\n",
       "      <td>0.499949</td>\n",
       "    </tr>\n",
       "    <tr>\n",
       "      <th>205757</th>\n",
       "      <td>205757</td>\n",
       "      <td>2007</td>\n",
       "      <td>2020</td>\n",
       "      <td>['Lag_Tobins_Q_A', 'Lag_dy', 'Lag_netg', 'Lag_...</td>\n",
       "      <td>0.310665</td>\n",
       "      <td>0.499949</td>\n",
       "    </tr>\n",
       "    <tr>\n",
       "      <th>923846</th>\n",
       "      <td>923846</td>\n",
       "      <td>2018</td>\n",
       "      <td>2021</td>\n",
       "      <td>['Lag_she', 'Lag_Tobins_Q', 'Lag_Tobins_Q_A', ...</td>\n",
       "      <td>0.313063</td>\n",
       "      <td>0.499949</td>\n",
       "    </tr>\n",
       "  </tbody>\n",
       "</table>\n",
       "</div>"
      ],
      "text/plain": [
       "        Unnamed: 0  star_yyyy  YEAR  \\\n",
       "106269      106269       2005  2020   \n",
       "203365      203365       2007  2020   \n",
       "205757      205757       2007  2020   \n",
       "923846      923846       2018  2021   \n",
       "\n",
       "                                                      COL       MAE      RMSE  \n",
       "106269  ['Lag_she', 'Lag_mshe', 'Lag_Tobins_Q_A', 'Lag...  0.318860  0.499949  \n",
       "203365  ['Lag_she', 'Lag_Tobins_Q_A', 'Lag_dy', 'Lag_s...  0.310497  0.499949  \n",
       "205757  ['Lag_Tobins_Q_A', 'Lag_dy', 'Lag_netg', 'Lag_...  0.310665  0.499949  \n",
       "923846  ['Lag_she', 'Lag_Tobins_Q', 'Lag_Tobins_Q_A', ...  0.313063  0.499949  "
      ]
     },
     "execution_count": 236,
     "metadata": {},
     "output_type": "execute_result"
    }
   ],
   "source": [
    "Result[Result[\"RMSE\"]==min(result_2021[\"RMSE\"])]"
   ]
  },
  {
   "cell_type": "code",
   "execution_count": 237,
   "id": "05f4393d",
   "metadata": {},
   "outputs": [
    {
     "data": {
      "text/html": [
       "<div>\n",
       "<style scoped>\n",
       "    .dataframe tbody tr th:only-of-type {\n",
       "        vertical-align: middle;\n",
       "    }\n",
       "\n",
       "    .dataframe tbody tr th {\n",
       "        vertical-align: top;\n",
       "    }\n",
       "\n",
       "    .dataframe thead th {\n",
       "        text-align: right;\n",
       "    }\n",
       "</style>\n",
       "<table border=\"1\" class=\"dataframe\">\n",
       "  <thead>\n",
       "    <tr style=\"text-align: right;\">\n",
       "      <th></th>\n",
       "      <th>Unnamed: 0</th>\n",
       "      <th>star_yyyy</th>\n",
       "      <th>YEAR</th>\n",
       "      <th>COL</th>\n",
       "      <th>MAE</th>\n",
       "      <th>RMSE</th>\n",
       "    </tr>\n",
       "  </thead>\n",
       "  <tbody>\n",
       "    <tr>\n",
       "      <th>923845</th>\n",
       "      <td>923845</td>\n",
       "      <td>2018</td>\n",
       "      <td>2020</td>\n",
       "      <td>['Lag_she', 'Lag_Tobins_Q', 'Lag_Tobins_Q_A', ...</td>\n",
       "      <td>0.298965</td>\n",
       "      <td>0.442717</td>\n",
       "    </tr>\n",
       "    <tr>\n",
       "      <th>923846</th>\n",
       "      <td>923846</td>\n",
       "      <td>2018</td>\n",
       "      <td>2021</td>\n",
       "      <td>['Lag_she', 'Lag_Tobins_Q', 'Lag_Tobins_Q_A', ...</td>\n",
       "      <td>0.313063</td>\n",
       "      <td>0.499949</td>\n",
       "    </tr>\n",
       "  </tbody>\n",
       "</table>\n",
       "</div>"
      ],
      "text/plain": [
       "        Unnamed: 0  star_yyyy  YEAR  \\\n",
       "923845      923845       2018  2020   \n",
       "923846      923846       2018  2021   \n",
       "\n",
       "                                                      COL       MAE      RMSE  \n",
       "923845  ['Lag_she', 'Lag_Tobins_Q', 'Lag_Tobins_Q_A', ...  0.298965  0.442717  \n",
       "923846  ['Lag_she', 'Lag_Tobins_Q', 'Lag_Tobins_Q_A', ...  0.313063  0.499949  "
      ]
     },
     "execution_count": 237,
     "metadata": {},
     "output_type": "execute_result"
    }
   ],
   "source": [
    "Result.iloc[[923845,923846]]"
   ]
  },
  {
   "cell_type": "code",
   "execution_count": 27,
   "id": "9724638a",
   "metadata": {
    "scrolled": true
   },
   "outputs": [
    {
     "data": {
      "text/plain": [
       "0.239499"
      ]
     },
     "execution_count": 27,
     "metadata": {},
     "output_type": "execute_result"
    }
   ],
   "source": [
    "min(Result[\"MAE\"])"
   ]
  },
  {
   "cell_type": "code",
   "execution_count": 28,
   "id": "9c59d834",
   "metadata": {},
   "outputs": [
    {
     "data": {
      "text/plain": [
       "0.239499"
      ]
     },
     "execution_count": 28,
     "metadata": {},
     "output_type": "execute_result"
    }
   ],
   "source": [
    "min(Result[\"MAE\"])"
   ]
  },
  {
   "cell_type": "code",
   "execution_count": 64,
   "id": "1acd94be",
   "metadata": {},
   "outputs": [
    {
     "data": {
      "text/plain": [
       "363254898191.87506"
      ]
     },
     "execution_count": 64,
     "metadata": {},
     "output_type": "execute_result"
    }
   ],
   "source": [
    "max(Result[\"MAE\"])"
   ]
  },
  {
   "cell_type": "code",
   "execution_count": 69,
   "id": "94a69b05",
   "metadata": {},
   "outputs": [
    {
     "data": {
      "text/html": [
       "<div>\n",
       "<style scoped>\n",
       "    .dataframe tbody tr th:only-of-type {\n",
       "        vertical-align: middle;\n",
       "    }\n",
       "\n",
       "    .dataframe tbody tr th {\n",
       "        vertical-align: top;\n",
       "    }\n",
       "\n",
       "    .dataframe thead th {\n",
       "        text-align: right;\n",
       "    }\n",
       "</style>\n",
       "<table border=\"1\" class=\"dataframe\">\n",
       "  <thead>\n",
       "    <tr style=\"text-align: right;\">\n",
       "      <th></th>\n",
       "      <th>Unnamed: 0</th>\n",
       "      <th>star_yyyy</th>\n",
       "      <th>YEAR</th>\n",
       "      <th>COL</th>\n",
       "      <th>MAE</th>\n",
       "      <th>RMSE</th>\n",
       "    </tr>\n",
       "  </thead>\n",
       "  <tbody>\n",
       "    <tr>\n",
       "      <th>919235</th>\n",
       "      <td>919235</td>\n",
       "      <td>2018</td>\n",
       "      <td>2020</td>\n",
       "      <td>['Lag_shr', 'Lag_dy', 'Lag_return', 'Lag_riskp...</td>\n",
       "      <td>3.632549e+11</td>\n",
       "      <td>3.632549e+11</td>\n",
       "    </tr>\n",
       "  </tbody>\n",
       "</table>\n",
       "</div>"
      ],
      "text/plain": [
       "        Unnamed: 0  star_yyyy  YEAR  \\\n",
       "919235      919235       2018  2020   \n",
       "\n",
       "                                                      COL           MAE  \\\n",
       "919235  ['Lag_shr', 'Lag_dy', 'Lag_return', 'Lag_riskp...  3.632549e+11   \n",
       "\n",
       "                RMSE  \n",
       "919235  3.632549e+11  "
      ]
     },
     "execution_count": 69,
     "metadata": {},
     "output_type": "execute_result"
    }
   ],
   "source": [
    "Result[Result[\"MAE\"]==max(Result[\"MAE\"])]"
   ]
  },
  {
   "cell_type": "code",
   "execution_count": 61,
   "id": "d9f50d00",
   "metadata": {},
   "outputs": [
    {
     "data": {
      "image/png": "[encoded data removed]",
      "text/plain": [
       "<Figure size 432x288 with 1 Axes>"
      ]
     },
     "metadata": {
      "needs_background": "light"
     },
     "output_type": "display_data"
    }
   ],
   "source": [
    "sns.kdeplot(np.float_(list(Result[\"MAE\"])))\n",
    "plt.show()"
   ]
  },
  {
   "cell_type": "code",
   "execution_count": 184,
   "id": "e9b907fc",
   "metadata": {},
   "outputs": [
    {
     "data": {
      "image/png": "[encoded data removed]",
      "text/plain": [
       "<Figure size 432x288 with 1 Axes>"
      ]
     },
     "metadata": {
      "needs_background": "light"
     },
     "output_type": "display_data"
    }
   ],
   "source": [
    "sns.kdeplot(np.float_(list(Result[\"MAE\"])))\n",
    "plt.show()"
   ]
  },
  {
   "cell_type": "code",
   "execution_count": 161,
   "id": "ce5ab189",
   "metadata": {},
   "outputs": [
    {
     "data": {
      "text/plain": [
       "[['Lag_shr', 'Lag_mshe', 'Lag_netg', 'Lag_idiorisk']]"
      ]
     },
     "execution_count": 161,
     "metadata": {},
     "output_type": "execute_result"
    }
   ],
   "source": [
    "list(Result[Result[\"MAE\"]==min(Result[\"MAE\"])][\"COL\"])"
   ]
  },
  {
   "cell_type": "code",
   "execution_count": 30,
   "id": "a1c8e57e",
   "metadata": {},
   "outputs": [
    {
     "data": {
      "text/plain": [
       "0.321728"
      ]
     },
     "execution_count": 30,
     "metadata": {},
     "output_type": "execute_result"
    }
   ],
   "source": [
    "min(Result[\"RMSE\"])"
   ]
  },
  {
   "cell_type": "code",
   "execution_count": 162,
   "id": "08cd65c2",
   "metadata": {},
   "outputs": [
    {
     "data": {
      "text/plain": [
       "'0.438203'"
      ]
     },
     "execution_count": 162,
     "metadata": {},
     "output_type": "execute_result"
    }
   ],
   "source": [
    "min(Result[\"RMSE\"])"
   ]
  },
  {
   "cell_type": "code",
   "execution_count": 51,
   "id": "489d1488",
   "metadata": {},
   "outputs": [
    {
     "data": {
      "image/png": "[encoded data removed]",
      "text/plain": [
       "<Figure size 432x288 with 1 Axes>"
      ]
     },
     "metadata": {
      "needs_background": "light"
     },
     "output_type": "display_data"
    }
   ],
   "source": [
    "sns.kdeplot(np.float_(list(Result[\"RMSE\"])))\n",
    "plt.show()"
   ]
  },
  {
   "cell_type": "code",
   "execution_count": 185,
   "id": "d0bc624c",
   "metadata": {},
   "outputs": [
    {
     "data": {
      "image/png": "[encoded data removed]",
      "text/plain": [
       "<Figure size 432x288 with 1 Axes>"
      ]
     },
     "metadata": {
      "needs_background": "light"
     },
     "output_type": "display_data"
    }
   ],
   "source": [
    "sns.kdeplot(np.float_(list(Result[\"RMSE\"])))\n",
    "plt.show()"
   ]
  },
  {
   "cell_type": "code",
   "execution_count": 31,
   "id": "e9ea2e55",
   "metadata": {},
   "outputs": [
    {
     "data": {
      "text/plain": [
       "[\"['Lag_shr', 'Lag_Tobins_Q_A']\"]"
      ]
     },
     "execution_count": 31,
     "metadata": {},
     "output_type": "execute_result"
    }
   ],
   "source": [
    "list(Result[Result[\"RMSE\"]==min(Result[\"RMSE\"])][\"COL\"])"
   ]
  },
  {
   "cell_type": "code",
   "execution_count": 164,
   "id": "3d1b1c58",
   "metadata": {},
   "outputs": [
    {
     "data": {
      "text/plain": [
       "[['Lag_PE']]"
      ]
     },
     "execution_count": 164,
     "metadata": {},
     "output_type": "execute_result"
    }
   ],
   "source": [
    "list(Result[Result[\"RMSE\"]==min(Result[\"RMSE\"])][\"COL\"])"
   ]
  },
  {
   "cell_type": "code",
   "execution_count": 165,
   "id": "fcd64d34",
   "metadata": {},
   "outputs": [
    {
     "data": {
      "text/plain": [
       "[['Lag_shr', 'Lag_mshe', 'Lag_netg', 'Lag_idiorisk']]"
      ]
     },
     "execution_count": 165,
     "metadata": {},
     "output_type": "execute_result"
    }
   ],
   "source": [
    "list(Result[Result[\"MAE\"]==min(Result[\"MAE\"])][\"COL\"])"
   ]
  },
  {
   "cell_type": "code",
   "execution_count": 37,
   "id": "8f7247bc",
   "metadata": {},
   "outputs": [
    {
     "data": {
      "text/plain": [
       "[\"['Lag_shr', 'Lag_mshe']\"]"
      ]
     },
     "execution_count": 37,
     "metadata": {},
     "output_type": "execute_result"
    }
   ],
   "source": [
    "list(Result[Result[\"MAE\"]==min(Result[\"MAE\"])][\"COL\"])"
   ]
  },
  {
   "cell_type": "code",
   "execution_count": 38,
   "id": "fb875bb7",
   "metadata": {},
   "outputs": [
    {
     "data": {
      "text/plain": [
       "[\"['Lag_shr', 'Lag_dy', 'Lag_return', 'Lag_riskprem']\"]"
      ]
     },
     "execution_count": 38,
     "metadata": {},
     "output_type": "execute_result"
    }
   ],
   "source": [
    "list(Result[Result[\"MAE\"]==max(Result[\"MAE\"])][\"COL\"])"
   ]
  },
  {
   "cell_type": "code",
   "execution_count": 35,
   "id": "979cc801",
   "metadata": {},
   "outputs": [
    {
     "data": {
      "text/plain": [
       "[\"['Lag_shr', 'Lag_Tobins_Q_A']\"]"
      ]
     },
     "execution_count": 35,
     "metadata": {},
     "output_type": "execute_result"
    }
   ],
   "source": [
    "list(Result[Result[\"RMSE\"]==min(Result[\"RMSE\"])][\"COL\"])"
   ]
  },
  {
   "cell_type": "code",
   "execution_count": 36,
   "id": "06a62714",
   "metadata": {},
   "outputs": [
    {
     "data": {
      "text/plain": [
       "[\"['Lag_shr', 'Lag_dy', 'Lag_return', 'Lag_riskprem']\"]"
      ]
     },
     "execution_count": 36,
     "metadata": {},
     "output_type": "execute_result"
    }
   ],
   "source": [
    "list(Result[Result[\"RMSE\"]==max(Result[\"RMSE\"])][\"COL\"])"
   ]
  },
  {
   "cell_type": "code",
   "execution_count": 39,
   "id": "4d9e9cf2",
   "metadata": {},
   "outputs": [
    {
     "data": {
      "text/html": [
       "<div>\n",
       "<style scoped>\n",
       "    .dataframe tbody tr th:only-of-type {\n",
       "        vertical-align: middle;\n",
       "    }\n",
       "\n",
       "    .dataframe tbody tr th {\n",
       "        vertical-align: top;\n",
       "    }\n",
       "\n",
       "    .dataframe thead th {\n",
       "        text-align: right;\n",
       "    }\n",
       "</style>\n",
       "<table border=\"1\" class=\"dataframe\">\n",
       "  <thead>\n",
       "    <tr style=\"text-align: right;\">\n",
       "      <th></th>\n",
       "      <th>Unnamed: 0</th>\n",
       "      <th>star_yyyy</th>\n",
       "      <th>YEAR</th>\n",
       "      <th>COL</th>\n",
       "      <th>MAE</th>\n",
       "      <th>RMSE</th>\n",
       "    </tr>\n",
       "  </thead>\n",
       "  <tbody>\n",
       "    <tr>\n",
       "      <th>917513</th>\n",
       "      <td>917513</td>\n",
       "      <td>2018</td>\n",
       "      <td>2020</td>\n",
       "      <td>['Lag_shr', 'Lag_Tobins_Q_A']</td>\n",
       "      <td>0.246311</td>\n",
       "      <td>0.321728</td>\n",
       "    </tr>\n",
       "  </tbody>\n",
       "</table>\n",
       "</div>"
      ],
      "text/plain": [
       "        Unnamed: 0  star_yyyy  YEAR                            COL       MAE  \\\n",
       "917513      917513       2018  2020  ['Lag_shr', 'Lag_Tobins_Q_A']  0.246311   \n",
       "\n",
       "            RMSE  \n",
       "917513  0.321728  "
      ]
     },
     "execution_count": 39,
     "metadata": {},
     "output_type": "execute_result"
    }
   ],
   "source": [
    "Result[Result[\"RMSE\"]==min(Result[\"RMSE\"])]"
   ]
  },
  {
   "cell_type": "code",
   "execution_count": 40,
   "id": "0b0cab24",
   "metadata": {},
   "outputs": [
    {
     "data": {
      "text/html": [
       "<div>\n",
       "<style scoped>\n",
       "    .dataframe tbody tr th:only-of-type {\n",
       "        vertical-align: middle;\n",
       "    }\n",
       "\n",
       "    .dataframe tbody tr th {\n",
       "        vertical-align: top;\n",
       "    }\n",
       "\n",
       "    .dataframe thead th {\n",
       "        text-align: right;\n",
       "    }\n",
       "</style>\n",
       "<table border=\"1\" class=\"dataframe\">\n",
       "  <thead>\n",
       "    <tr style=\"text-align: right;\">\n",
       "      <th></th>\n",
       "      <th>Unnamed: 0</th>\n",
       "      <th>star_yyyy</th>\n",
       "      <th>YEAR</th>\n",
       "      <th>COL</th>\n",
       "      <th>MAE</th>\n",
       "      <th>RMSE</th>\n",
       "    </tr>\n",
       "  </thead>\n",
       "  <tbody>\n",
       "    <tr>\n",
       "      <th>917513</th>\n",
       "      <td>917513</td>\n",
       "      <td>2018</td>\n",
       "      <td>2020</td>\n",
       "      <td>['Lag_shr', 'Lag_Tobins_Q_A']</td>\n",
       "      <td>0.246311</td>\n",
       "      <td>0.321728</td>\n",
       "    </tr>\n",
       "  </tbody>\n",
       "</table>\n",
       "</div>"
      ],
      "text/plain": [
       "        Unnamed: 0  star_yyyy  YEAR                            COL       MAE  \\\n",
       "917513      917513       2018  2020  ['Lag_shr', 'Lag_Tobins_Q_A']  0.246311   \n",
       "\n",
       "            RMSE  \n",
       "917513  0.321728  "
      ]
     },
     "execution_count": 40,
     "metadata": {},
     "output_type": "execute_result"
    }
   ],
   "source": [
    "Result[Result[\"RMSE\"]==min(Result[\"RMSE\"])]"
   ]
  },
  {
   "cell_type": "code",
   "execution_count": 41,
   "id": "b1e15b65",
   "metadata": {},
   "outputs": [
    {
     "data": {
      "text/html": [
       "<div>\n",
       "<style scoped>\n",
       "    .dataframe tbody tr th:only-of-type {\n",
       "        vertical-align: middle;\n",
       "    }\n",
       "\n",
       "    .dataframe tbody tr th {\n",
       "        vertical-align: top;\n",
       "    }\n",
       "\n",
       "    .dataframe thead th {\n",
       "        text-align: right;\n",
       "    }\n",
       "</style>\n",
       "<table border=\"1\" class=\"dataframe\">\n",
       "  <thead>\n",
       "    <tr style=\"text-align: right;\">\n",
       "      <th></th>\n",
       "      <th>Unnamed: 0</th>\n",
       "      <th>star_yyyy</th>\n",
       "      <th>YEAR</th>\n",
       "      <th>COL</th>\n",
       "      <th>MAE</th>\n",
       "      <th>RMSE</th>\n",
       "    </tr>\n",
       "  </thead>\n",
       "  <tbody>\n",
       "    <tr>\n",
       "      <th>65567</th>\n",
       "      <td>65567</td>\n",
       "      <td>2005</td>\n",
       "      <td>2020</td>\n",
       "      <td>['Lag_shr', 'Lag_mshe']</td>\n",
       "      <td>0.239499</td>\n",
       "      <td>0.336142</td>\n",
       "    </tr>\n",
       "  </tbody>\n",
       "</table>\n",
       "</div>"
      ],
      "text/plain": [
       "       Unnamed: 0  star_yyyy  YEAR                      COL       MAE  \\\n",
       "65567       65567       2005  2020  ['Lag_shr', 'Lag_mshe']  0.239499   \n",
       "\n",
       "           RMSE  \n",
       "65567  0.336142  "
      ]
     },
     "execution_count": 41,
     "metadata": {},
     "output_type": "execute_result"
    }
   ],
   "source": [
    "Result[Result[\"MAE\"]==min(Result[\"MAE\"])]"
   ]
  },
  {
   "cell_type": "code",
   "execution_count": 252,
   "id": "b9a17b7a",
   "metadata": {},
   "outputs": [
    {
     "data": {
      "text/html": [
       "<div>\n",
       "<style scoped>\n",
       "    .dataframe tbody tr th:only-of-type {\n",
       "        vertical-align: middle;\n",
       "    }\n",
       "\n",
       "    .dataframe tbody tr th {\n",
       "        vertical-align: top;\n",
       "    }\n",
       "\n",
       "    .dataframe thead th {\n",
       "        text-align: right;\n",
       "    }\n",
       "</style>\n",
       "<table border=\"1\" class=\"dataframe\">\n",
       "  <thead>\n",
       "    <tr style=\"text-align: right;\">\n",
       "      <th></th>\n",
       "      <th>Unnamed: 0</th>\n",
       "      <th>star_yyyy</th>\n",
       "      <th>YEAR</th>\n",
       "      <th>COL</th>\n",
       "      <th>MAE</th>\n",
       "      <th>RMSE</th>\n",
       "    </tr>\n",
       "  </thead>\n",
       "  <tbody>\n",
       "    <tr>\n",
       "      <th>917492</th>\n",
       "      <td>917492</td>\n",
       "      <td>2018</td>\n",
       "      <td>2021</td>\n",
       "      <td>['Lag_PE']</td>\n",
       "      <td>0.313144</td>\n",
       "      <td>0.500613</td>\n",
       "    </tr>\n",
       "    <tr>\n",
       "      <th>917493</th>\n",
       "      <td>917493</td>\n",
       "      <td>2018</td>\n",
       "      <td>2020</td>\n",
       "      <td>['Lag_PE']</td>\n",
       "      <td>0.296549</td>\n",
       "      <td>0.438203</td>\n",
       "    </tr>\n",
       "  </tbody>\n",
       "</table>\n",
       "</div>"
      ],
      "text/plain": [
       "        Unnamed: 0  star_yyyy  YEAR         COL       MAE      RMSE\n",
       "917492      917492       2018  2021  ['Lag_PE']  0.313144  0.500613\n",
       "917493      917493       2018  2020  ['Lag_PE']  0.296549  0.438203"
      ]
     },
     "execution_count": 252,
     "metadata": {},
     "output_type": "execute_result"
    }
   ],
   "source": [
    "Result.iloc[[917492,917493]]"
   ]
  },
  {
   "cell_type": "code",
   "execution_count": 250,
   "id": "d1cf8527",
   "metadata": {},
   "outputs": [
    {
     "data": {
      "text/html": [
       "<div>\n",
       "<style scoped>\n",
       "    .dataframe tbody tr th:only-of-type {\n",
       "        vertical-align: middle;\n",
       "    }\n",
       "\n",
       "    .dataframe tbody tr th {\n",
       "        vertical-align: top;\n",
       "    }\n",
       "\n",
       "    .dataframe thead th {\n",
       "        text-align: right;\n",
       "    }\n",
       "</style>\n",
       "<table border=\"1\" class=\"dataframe\">\n",
       "  <thead>\n",
       "    <tr style=\"text-align: right;\">\n",
       "      <th></th>\n",
       "      <th>Unnamed: 0</th>\n",
       "      <th>star_yyyy</th>\n",
       "      <th>YEAR</th>\n",
       "      <th>COL</th>\n",
       "      <th>MAE</th>\n",
       "      <th>RMSE</th>\n",
       "    </tr>\n",
       "  </thead>\n",
       "  <tbody>\n",
       "    <tr>\n",
       "      <th>917493</th>\n",
       "      <td>917493</td>\n",
       "      <td>2018</td>\n",
       "      <td>2020</td>\n",
       "      <td>['Lag_PE']</td>\n",
       "      <td>0.296549</td>\n",
       "      <td>0.438203</td>\n",
       "    </tr>\n",
       "    <tr>\n",
       "      <th>917494</th>\n",
       "      <td>917494</td>\n",
       "      <td>2018</td>\n",
       "      <td>2021</td>\n",
       "      <td>['Lag_par']</td>\n",
       "      <td>0.312965</td>\n",
       "      <td>0.500663</td>\n",
       "    </tr>\n",
       "  </tbody>\n",
       "</table>\n",
       "</div>"
      ],
      "text/plain": [
       "        Unnamed: 0  star_yyyy  YEAR          COL       MAE      RMSE\n",
       "917493      917493       2018  2020   ['Lag_PE']  0.296549  0.438203\n",
       "917494      917494       2018  2021  ['Lag_par']  0.312965  0.500663"
      ]
     },
     "execution_count": 250,
     "metadata": {},
     "output_type": "execute_result"
    }
   ],
   "source": [
    "Result.iloc[[917493,917494]]"
   ]
  },
  {
   "cell_type": "code",
   "execution_count": 247,
   "id": "efa9f08e",
   "metadata": {},
   "outputs": [
    {
     "data": {
      "text/html": [
       "<div>\n",
       "<style scoped>\n",
       "    .dataframe tbody tr th:only-of-type {\n",
       "        vertical-align: middle;\n",
       "    }\n",
       "\n",
       "    .dataframe tbody tr th {\n",
       "        vertical-align: top;\n",
       "    }\n",
       "\n",
       "    .dataframe thead th {\n",
       "        text-align: right;\n",
       "    }\n",
       "</style>\n",
       "<table border=\"1\" class=\"dataframe\">\n",
       "  <thead>\n",
       "    <tr style=\"text-align: right;\">\n",
       "      <th></th>\n",
       "      <th>Unnamed: 0</th>\n",
       "      <th>star_yyyy</th>\n",
       "      <th>YEAR</th>\n",
       "      <th>COL</th>\n",
       "      <th>MAE</th>\n",
       "      <th>RMSE</th>\n",
       "    </tr>\n",
       "  </thead>\n",
       "  <tbody>\n",
       "    <tr>\n",
       "      <th>20962</th>\n",
       "      <td>20962</td>\n",
       "      <td>2004</td>\n",
       "      <td>2021</td>\n",
       "      <td>['Lag_shr', 'Lag_she', 'Lag_Tobins_Q', 'Lag_To...</td>\n",
       "      <td>0.319706</td>\n",
       "      <td>0.541917</td>\n",
       "    </tr>\n",
       "    <tr>\n",
       "      <th>20963</th>\n",
       "      <td>20963</td>\n",
       "      <td>2004</td>\n",
       "      <td>2020</td>\n",
       "      <td>['Lag_shr', 'Lag_she', 'Lag_Tobins_Q', 'Lag_To...</td>\n",
       "      <td>0.298264</td>\n",
       "      <td>0.480810</td>\n",
       "    </tr>\n",
       "  </tbody>\n",
       "</table>\n",
       "</div>"
      ],
      "text/plain": [
       "       Unnamed: 0  star_yyyy  YEAR  \\\n",
       "20962       20962       2004  2021   \n",
       "20963       20963       2004  2020   \n",
       "\n",
       "                                                     COL       MAE      RMSE  \n",
       "20962  ['Lag_shr', 'Lag_she', 'Lag_Tobins_Q', 'Lag_To...  0.319706  0.541917  \n",
       "20963  ['Lag_shr', 'Lag_she', 'Lag_Tobins_Q', 'Lag_To...  0.298264  0.480810  "
      ]
     },
     "execution_count": 247,
     "metadata": {},
     "output_type": "execute_result"
    }
   ],
   "source": [
    "Result.iloc[[20962,20963]]"
   ]
  },
  {
   "cell_type": "code",
   "execution_count": 66,
   "id": "b0638898",
   "metadata": {},
   "outputs": [
    {
     "name": "stdout",
     "output_type": "stream",
     "text": [
      "B0+B1*Lag_shr+B2*Lag_dy+B3*Lag_return+B4*Lag_riskprem\n"
     ]
    }
   ],
   "source": [
    "s=\"B0\"\n",
    "# [\"Lag_shr\", \"Lag_mshe\", \"Lag_netg\", \"Lag_idiorisk\"]\n",
    "a = ['Lag_shr', 'Lag_dy', 'Lag_return', 'Lag_riskprem']\n",
    "for i in range(len(a)):\n",
    "    s += \"+B\"+str(i+1)+\"*\"+a[i]\n",
    "print(s)"
   ]
  },
  {
   "cell_type": "code",
   "execution_count": 67,
   "id": "92c5ae44",
   "metadata": {},
   "outputs": [
    {
     "name": "stdout",
     "output_type": "stream",
     "text": [
      "Lag_shr Lag_dy Lag_return Lag_riskprem \n"
     ]
    }
   ],
   "source": [
    "s = \"\"\n",
    "for i in a:\n",
    "    s+=i+\" \"\n",
    "print(s)"
   ]
  },
  {
   "cell_type": "code",
   "execution_count": 85,
   "id": "cd82f19a",
   "metadata": {},
   "outputs": [
    {
     "name": "stdout",
     "output_type": "stream",
     "text": [
      "1048575\n",
      "32767\n",
      "1023\n",
      "1025.0\n"
     ]
    }
   ],
   "source": [
    "import math\n",
    "def it(n):\n",
    "    sum_ = 0\n",
    "    for m in range(1,n+1,1):\n",
    "        sum_ += (math.factorial(n)//(math.factorial(m)*math.factorial(n-m)))\n",
    "    return sum_\n",
    "\n",
    "_30 = it(20)\n",
    "_15 = it(15)\n",
    "_10 = it(10)\n",
    "print(_30)\n",
    "print(_15)\n",
    "print(_10)\n",
    "print(_30/_10)"
   ]
  },
  {
   "cell_type": "code",
   "execution_count": 10,
   "id": "8a99963b",
   "metadata": {},
   "outputs": [
    {
     "data": {
      "text/plain": [
       "2.8472222222222223"
      ]
     },
     "execution_count": 10,
     "metadata": {},
     "output_type": "execute_result"
    }
   ],
   "source": [
    "10250/60/60"
   ]
  },
  {
   "cell_type": "code",
   "execution_count": 78,
   "id": "ec5538ce",
   "metadata": {},
   "outputs": [
    {
     "data": {
      "text/html": [
       "<div>\n",
       "<style scoped>\n",
       "    .dataframe tbody tr th:only-of-type {\n",
       "        vertical-align: middle;\n",
       "    }\n",
       "\n",
       "    .dataframe tbody tr th {\n",
       "        vertical-align: top;\n",
       "    }\n",
       "\n",
       "    .dataframe thead th {\n",
       "        text-align: right;\n",
       "    }\n",
       "</style>\n",
       "<table border=\"1\" class=\"dataframe\">\n",
       "  <thead>\n",
       "    <tr style=\"text-align: right;\">\n",
       "      <th></th>\n",
       "      <th>證券代碼</th>\n",
       "      <th>年月</th>\n",
       "      <th>TEJ產業_代碼</th>\n",
       "      <th>股利殖利率-TSE</th>\n",
       "      <th>本益比-TSE</th>\n",
       "      <th>TEJ產業_名稱</th>\n",
       "      <th>市值(百萬元)</th>\n",
       "      <th>成交值(百萬元)_年</th>\n",
       "      <th>報酬率％_年</th>\n",
       "      <th>週轉率％_年</th>\n",
       "    </tr>\n",
       "  </thead>\n",
       "  <tbody>\n",
       "    <tr>\n",
       "      <th>0</th>\n",
       "      <td>1101 台泥</td>\n",
       "      <td>2021-12-30</td>\n",
       "      <td>M11A</td>\n",
       "      <td>7.02</td>\n",
       "      <td>14.08</td>\n",
       "      <td>水泥製造</td>\n",
       "      <td>294011.0</td>\n",
       "      <td>282962.0</td>\n",
       "      <td>18.9741</td>\n",
       "      <td>94.4961</td>\n",
       "    </tr>\n",
       "    <tr>\n",
       "      <th>1</th>\n",
       "      <td>1102 亞泥</td>\n",
       "      <td>2021-12-30</td>\n",
       "      <td>M11A</td>\n",
       "      <td>7.81</td>\n",
       "      <td>10.16</td>\n",
       "      <td>水泥製造</td>\n",
       "      <td>157069.0</td>\n",
       "      <td>119618.0</td>\n",
       "      <td>10.2078</td>\n",
       "      <td>71.4324</td>\n",
       "    </tr>\n",
       "    <tr>\n",
       "      <th>2</th>\n",
       "      <td>1103 嘉泥</td>\n",
       "      <td>2021-12-30</td>\n",
       "      <td>M11A</td>\n",
       "      <td>6.75</td>\n",
       "      <td>7.31</td>\n",
       "      <td>水泥製造</td>\n",
       "      <td>16077.0</td>\n",
       "      <td>10367.0</td>\n",
       "      <td>16.4133</td>\n",
       "      <td>59.4099</td>\n",
       "    </tr>\n",
       "    <tr>\n",
       "      <th>3</th>\n",
       "      <td>1104 環泥</td>\n",
       "      <td>2021-12-30</td>\n",
       "      <td>M11A</td>\n",
       "      <td>5.09</td>\n",
       "      <td>12.78</td>\n",
       "      <td>水泥製造</td>\n",
       "      <td>14118.0</td>\n",
       "      <td>7759.0</td>\n",
       "      <td>-2.0660</td>\n",
       "      <td>49.0927</td>\n",
       "    </tr>\n",
       "    <tr>\n",
       "      <th>4</th>\n",
       "      <td>1108 幸福</td>\n",
       "      <td>2021-12-30</td>\n",
       "      <td>M11A</td>\n",
       "      <td>5.88</td>\n",
       "      <td>20.52</td>\n",
       "      <td>水泥製造</td>\n",
       "      <td>4816.0</td>\n",
       "      <td>7897.0</td>\n",
       "      <td>-0.8563</td>\n",
       "      <td>129.9253</td>\n",
       "    </tr>\n",
       "  </tbody>\n",
       "</table>\n",
       "</div>"
      ],
      "text/plain": [
       "      證券代碼         年月 TEJ產業_代碼  股利殖利率-TSE  本益比-TSE TEJ產業_名稱   市值(百萬元)  \\\n",
       "0  1101 台泥 2021-12-30     M11A       7.02    14.08     水泥製造  294011.0   \n",
       "1  1102 亞泥 2021-12-30     M11A       7.81    10.16     水泥製造  157069.0   \n",
       "2  1103 嘉泥 2021-12-30     M11A       6.75     7.31     水泥製造   16077.0   \n",
       "3  1104 環泥 2021-12-30     M11A       5.09    12.78     水泥製造   14118.0   \n",
       "4  1108 幸福 2021-12-30     M11A       5.88    20.52     水泥製造    4816.0   \n",
       "\n",
       "   成交值(百萬元)_年   報酬率％_年    週轉率％_年  \n",
       "0    282962.0  18.9741   94.4961  \n",
       "1    119618.0  10.2078   71.4324  \n",
       "2     10367.0  16.4133   59.4099  \n",
       "3      7759.0  -2.0660   49.0927  \n",
       "4      7897.0  -0.8563  129.9253  "
      ]
     },
     "execution_count": 78,
     "metadata": {},
     "output_type": "execute_result"
    }
   ],
   "source": [
    "\n",
    "a.head(5)"
   ]
  },
  {
   "cell_type": "code",
   "execution_count": 91,
   "id": "7c55cb70",
   "metadata": {},
   "outputs": [],
   "source": [
    "def sp_0(_in):\n",
    "    out = _in.split(\" \")\n",
    "    return str(out[0])\n",
    "def sp_1(_in):\n",
    "    out = _in.split(\" \")\n",
    "    return out[1]\n",
    "def pros(file_name):\n",
    "    path = \"C:/Users/ed307/Desktop/sas_B/\"+file_name+\".xlsx\"\n",
    "    a = pd.read_excel(path)\n",
    "    a.insert(1, \"簡稱\", a[\"證券代碼\"].apply(sp_1))\n",
    "    a[\"證券代碼\"] = a[\"證券代碼\"].apply(sp_0)\n",
    "    a.to_excel(file_name+\"_n.xlsx\")\n",
    "    print(\"Done\")"
   ]
  },
  {
   "cell_type": "code",
   "execution_count": 92,
   "id": "cc3870e1",
   "metadata": {},
   "outputs": [
    {
     "name": "stdout",
     "output_type": "stream",
     "text": [
      "Done\n"
     ]
    }
   ],
   "source": [
    "pros(\"股價資料\")"
   ]
  },
  {
   "cell_type": "code",
   "execution_count": 93,
   "id": "e94c9c9f",
   "metadata": {},
   "outputs": [
    {
     "name": "stdout",
     "output_type": "stream",
     "text": [
      "Done\n"
     ]
    }
   ],
   "source": [
    "pros(\"會計資料\")"
   ]
  },
  {
   "cell_type": "code",
   "execution_count": 94,
   "id": "32be8195",
   "metadata": {},
   "outputs": [
    {
     "name": "stdout",
     "output_type": "stream",
     "text": [
      "Done\n"
     ]
    }
   ],
   "source": [
    "pros(\"董監持股\")"
   ]
  },
  {
   "cell_type": "code",
   "execution_count": 113,
   "id": "77aeee50",
   "metadata": {},
   "outputs": [],
   "source": [
    "from math import factorial\n",
    "\n",
    "def find_H(_up, _find):\n",
    "    a = []\n",
    "    for i in range(1,_up,1):\n",
    "        for l in range(1,_up,1):\n",
    "            if(factorial(i+l-1)/(factorial(i)*factorial(l-1)) == _find):\n",
    "                a.append({\"i\":i,\"l\":l})\n",
    "    if len(a):\n",
    "        return a\n",
    "    return \"NOT FIND\""
   ]
  },
  {
   "cell_type": "code",
   "execution_count": 114,
   "id": "86e41c13",
   "metadata": {},
   "outputs": [
    {
     "data": {
      "text/plain": [
       "[{'i': 29, 'l': 10}]"
      ]
     },
     "execution_count": 114,
     "metadata": {},
     "output_type": "execute_result"
    }
   ],
   "source": [
    "find_H(30,163011640)"
   ]
  },
  {
   "cell_type": "code",
   "execution_count": 115,
   "id": "220a509e",
   "metadata": {},
   "outputs": [
    {
     "data": {
      "text/plain": [
       "[{'i': 9, 'l': 30}, {'i': 29, 'l': 10}]"
      ]
     },
     "execution_count": 115,
     "metadata": {},
     "output_type": "execute_result"
    }
   ],
   "source": [
    "find_H(100,163011640)"
   ]
  },
  {
   "cell_type": "code",
   "execution_count": 116,
   "id": "2555b04f",
   "metadata": {},
   "outputs": [
    {
     "data": {
      "text/plain": [
       "[{'i': 9, 'l': 30}, {'i': 29, 'l': 10}]"
      ]
     },
     "execution_count": 116,
     "metadata": {},
     "output_type": "execute_result"
    }
   ],
   "source": [
    "find_H(500,163011640)"
   ]
  },
  {
   "cell_type": "code",
   "execution_count": 117,
   "id": "95f22147",
   "metadata": {},
   "outputs": [
    {
     "data": {
      "text/plain": [
       "'NOT FIND'"
      ]
     },
     "execution_count": 117,
     "metadata": {},
     "output_type": "execute_result"
    }
   ],
   "source": [
    "find_H(500,118360)"
   ]
  },
  {
   "cell_type": "code",
   "execution_count": null,
   "id": "52772e34",
   "metadata": {},
   "outputs": [],
   "source": []
  }
 ],
 "metadata": {
  "kernelspec": {
   "display_name": "Python 3 (ipykernel)",
   "language": "python",
   "name": "python3"
  },
  "language_info": {
   "codemirror_mode": {
    "name": "ipython",
    "version": 3
   },
   "file_extension": ".py",
   "mimetype": "text/x-python",
   "name": "python",
   "nbconvert_exporter": "python",
   "pygments_lexer": "ipython3",
   "version": "3.8.12"
  }
 },
 "nbformat": 4,
 "nbformat_minor": 5
}
